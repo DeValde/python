{
 "cells": [
  {
   "cell_type": "markdown",
   "metadata": {
    "collapsed": true,
    "pycharm": {
     "name": "#%% md\n"
    }
   },
   "source": [
    "## Таблица умножения(Промежуточный контроль)\n",
    "Написать программу выдающую N примеров по запросу пользователя, числа генерируются в диапазоне [1,10]. Программа печатает пример и ждёт ввода пользователя. Затем считывается ответ, сравнивается с правильным, если совпадают, то счётчик увеличивается на 1,выводится - \"Правильно\", в противном случае уменьшается на 1. В случае неверного ответа программа должна вывести правильный ответ.\n",
    "\n",
    "*Модификации:*\n",
    "* Произвольный диапазон генерации чисел для примера.\n",
    "* Вывод списка правильных ответов, списка ответов ученика (Подводка к анализу данных)\n",
    "* Расчет оценки по количеству решенных задач. Градация(85%+ - 5, 70-85% - 4, 55-70% -3, остальное плохо)\n",
    "* Два режима работы программы: Тренировка и экзамен. В первом случае программа не должна переставать генерировать примеры до ввода пользователем слова exit. Экзамен: программа генерирует конечное число примеров, определяется пользователем, и ставит таймер по формуле: $N*15$ в секундах. По завершении выводится оценка из пункта 3, в случае превышения таймера вывести - \"Время вышло, пробуй снова!\". Таймер должен выводить оставшиеся время за минуту,30,10 секунд.\n",
    "\n",
    "Возможное начало:\n",
    "Примечание: Юпитер быстро обрабатывает код, пример не видно )))"
   ]
  },
  {
   "cell_type": "code",
   "execution_count": 5,
   "outputs": [
    {
     "name": "stdout",
     "output_type": "stream",
     "text": [
      "enter int value\n"
     ]
    },
    {
     "ename": "ValueError",
     "evalue": "invalid literal for int() with base 10: ''",
     "output_type": "error",
     "traceback": [
      "\u001B[1;31m---------------------------------------------------------------------------\u001B[0m",
      "\u001B[1;31mValueError\u001B[0m                                Traceback (most recent call last)",
      "\u001B[1;32m<ipython-input-5-f22f80c51224>\u001B[0m in \u001B[0;36m<module>\u001B[1;34m\u001B[0m\n\u001B[0;32m      1\u001B[0m \u001B[1;32mimport\u001B[0m \u001B[0mrandom\u001B[0m\u001B[1;33m\u001B[0m\u001B[1;33m\u001B[0m\u001B[0m\n\u001B[0;32m      2\u001B[0m \u001B[0mprint\u001B[0m\u001B[1;33m(\u001B[0m\u001B[1;34m'enter int value'\u001B[0m\u001B[1;33m)\u001B[0m\u001B[1;33m\u001B[0m\u001B[1;33m\u001B[0m\u001B[0m\n\u001B[1;32m----> 3\u001B[1;33m \u001B[0mN\u001B[0m \u001B[1;33m=\u001B[0m \u001B[0mint\u001B[0m\u001B[1;33m(\u001B[0m\u001B[0minput\u001B[0m\u001B[1;33m(\u001B[0m\u001B[1;33m)\u001B[0m\u001B[1;33m)\u001B[0m\u001B[1;33m\u001B[0m\u001B[1;33m\u001B[0m\u001B[0m\n\u001B[0m\u001B[0;32m      4\u001B[0m \u001B[0mscore\u001B[0m \u001B[1;33m=\u001B[0m \u001B[1;36m0\u001B[0m\u001B[1;33m\u001B[0m\u001B[1;33m\u001B[0m\u001B[0m\n\u001B[0;32m      5\u001B[0m \u001B[1;32mfor\u001B[0m \u001B[0mitem\u001B[0m \u001B[1;32min\u001B[0m \u001B[0mrange\u001B[0m\u001B[1;33m(\u001B[0m\u001B[0mN\u001B[0m\u001B[1;33m)\u001B[0m\u001B[1;33m:\u001B[0m\u001B[1;33m\u001B[0m\u001B[1;33m\u001B[0m\u001B[0m\n",
      "\u001B[1;31mValueError\u001B[0m: invalid literal for int() with base 10: ''"
     ]
    }
   ],
   "source": [
    "import random\n",
    "print('enter int value')\n",
    "N = int(input())\n",
    "score = 0\n",
    "for item in range(N):\n",
    "    a = random.randint(0,20)\n",
    "    b = random.randint(0,20)\n",
    "    print(a,'*',b,'=',end=' ')\n",
    "    answer = int(input())\n",
    "    if answer == (a*b):\n",
    "        print('Right')\n",
    "        score+=1\n",
    "    else: score-=1\n",
    "    print('Wrong,right answer was', a*b)\n",
    "print(\"Total score:\",score)"
   ],
   "metadata": {
    "collapsed": false,
    "pycharm": {
     "name": "#%%\n"
    }
   }
  },
  {
   "cell_type": "markdown",
   "source": [
    "## Простые:\n",
    "* https://tproger.ru/problems/python-3-exercises-for-beginners-geekbrains\n",
    "\n",
    "* Площадь и периметр прямоугольного треугольника\n",
    "* Сумма цифр заданного числа\n",
    "* Существует ли треугольник\n",
    "* Високосный год или нет?\n",
    "* Цельсии в Фаренгейты или наоборот\n",
    "* Угадайка - пользователь угадывает заганое компом число а ля горячсо холодно"
   ],
   "metadata": {
    "collapsed": false,
    "pycharm": {
     "name": "#%% md\n",
     "is_executing": true
    }
   }
  },
  {
   "cell_type": "markdown",
   "source": [
    "## Средние:\n",
    "* Квадратные уравнения (модификация: уравнения вплоть до линейного, при а = 0)\n",
    "* Таблица значений функции для заданной функции\n",
    "* Алгоритм Евклида"
   ],
   "metadata": {
    "collapsed": false,
    "pycharm": {
     "name": "#%% md\n"
    }
   }
  },
  {
   "cell_type": "markdown",
   "source": [
    "## Списки и иже с ними:\n",
    "*Количество положительных, отрицательных и равных нулю\n",
    "*Удалить элементы, входящие в диапазон от 35 до 65\n",
    "*Больше среднего арифметического\n",
    "*Сумма элементов между минимальным и максимальным\n",
    "*Проверка уникальности элементов\n",
    "\n"
   ],
   "metadata": {
    "collapsed": false,
    "pycharm": {
     "name": "#%% md\n",
     "is_executing": true
    }
   }
  }
 ],
 "metadata": {
  "kernelspec": {
   "display_name": "Python 3",
   "language": "python",
   "name": "python3"
  },
  "language_info": {
   "codemirror_mode": {
    "name": "ipython",
    "version": 2
   },
   "file_extension": ".py",
   "mimetype": "text/x-python",
   "name": "python",
   "nbconvert_exporter": "python",
   "pygments_lexer": "ipython2",
   "version": "2.7.6"
  }
 },
 "nbformat": 4,
 "nbformat_minor": 0
}