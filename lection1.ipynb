{
 "nbformat": 4,
 "nbformat_minor": 0,
 "metadata": {
  "colab": {
   "name": "lection.ipynb",
   "provenance": [],
   "collapsed_sections": []
  },
  "kernelspec": {
   "name": "python3",
   "display_name": "Python 3"
  },
  "pycharm": {
   "stem_cell": {
    "cell_type": "raw",
    "source": [],
    "metadata": {
     "collapsed": false
    }
   }
  }
 },
 "cells": [
  {
   "cell_type": "markdown",
   "metadata": {
    "id": "5KMcvHyhhkHT"
   },
   "source": [
    "# **Целые (int)** \n",
    "Тип данных **int** хранит целые числа: \\\\"
   ]
  },
  {
   "cell_type": "code",

   "execution_count": 20,
   "outputs": [
    {
     "name": "stdout",
     "text": [
      "5 -24\n"
     ],
     "output_type": "stream"

    }
   },
   "source": [
    "x = 5\n",
    "y = -24\n",
    "print(x, y)"
   ],

   "metadata": {
    "collapsed": false,
    "pycharm": {
     "name": "#%%\n",
     "is_executing": false
    }
   ]
  },
  {
   "cell_type": "markdown",
   "metadata": {
    "id": "Fjy5Spu9i0mX"
   },
   "source": [
    "# **С плавающей точкой (float)** \n",
    "Тип данных float хранит дробные числа: \\\\"
   ]
  },
  {
   "cell_type": "code",
   "execution_count": 21,
   "outputs": [
    {
     "name": "stdout",
     "text": [
      "12.56 -0.45\n"
     ],
     "output_type": "stream"
    }
   },
   "source": [
    "x = 12.56\n",
    "y = -0.45\n",
    "print(x, y)"
   ],
   "metadata": {
    "collapsed": false,
    "pycharm": {
     "name": "#%%\n",
     "is_executing": false
    }
   ]
  },
  {
   "cell_type": "markdown",
   "metadata": {
    "id": "szT04BbdjMwD"
   },
   "source": [
    "Можно ли представить представить целые числа как вещественные? Если да, то приведите пример?"
   ]
  },
  {
   "cell_type": "markdown",
   "metadata": {
    "id": "RG8f7puTnnui"
   },
   "source": [
    "Почему не использовать float всегда? Память компьютера ограничена. А float занимает больше места чем int. Поэтому в зависимости от задачи используют int или float, чтобы не тратить в пустую память компьютера. \\\\\n",
    "Допустим надо записать сколько учеников в классе. Количество учеников всегда целое число, нельзя написать 1,5 ученика. Поэтому эти данные следует хранить в int, чтобы сэконмить память компьютера."
   ]
  },
  {
   "cell_type": "markdown",
   "metadata": {
    "id": "c9gxSNM6jPJv"
   },
   "source": [
    "# **Логический тип (Boolean)** \n",
    "Логический тип данных хранит в себе одно из двух значений: True или False. \\\\\n",
    "Также True и False представляют как 1 и 0. По этой причине на включателях розеток есть кнопка с 0 и 1. Она отвечает за состояния включено(1) и выключено(0)."
   ]
  },
  {
   "cell_type": "code",
   "execution_count": 22,
   "outputs": [
    {
     "name": "stdout",
     "text": [
      "True False 1\n"
     ],
     "output_type": "stream"
    }
   },
   "source": [
    "x = True\n",
    "y = False\n",
    "print (x, y, True + False)"
   ],
   "metadata": {
    "collapsed": false,
    "pycharm": {
     "name": "#%%\n",
     "is_executing": false
    }
   ]
  },
  {
   "cell_type": "markdown",
   "metadata": {
    "id": "dICN40VUjbec"
   },
   "source": [
    "# **Строки (String)**\n",
    "Строки хранят в себе последовательность из символов: букв, цифр и остальных знаков на клавиатуре. Строки записываются в 'одинарных' или \"двойных\" кавычках."
   ]
  },
  {
   "cell_type": "code",
   "execution_count": 23,
   "outputs": [
    {
     "name": "stdout",
     "text": [
      "Hello",
      " World1 !!!\n"
     ],
     "output_type": "stream"
    }
   },
   "source": [
    "str1 = \"Hello\"\n",
    "str2 = 'World1'\n",
    "print (str1, str2, \"!!!\")"
   ],
   "metadata": {
    "collapsed": false,
    "pycharm": {
     "name": "#%%\n",
     "is_executing": false
    }
   ]
  },
  {
   "cell_type": "markdown",
   "metadata": {
    "id": "UpQPXnX6jdKc",
    "pycharm": {
     "name": "#%% md\n"
    }
   },
   "source": [
    "# **Списки(Lists)** \n",
    "Список в Python можно определить так:\n",
    "* последовательность элементов, разделенных между собой запятой и заключенных в квадратные скобки\n",
    "* изменяемый упорядоченный тип данных\n",
    "\n",
    "Список можно создать несколькими способами:"
   ]
  },
  {
   "cell_type": "code",
   "execution_count": 24,
   "outputs": [
    {
     "name": "stdout",
     "text": [
      "[1, 2, 3, 4, 5, 6]",
      " [1, 0.5, 'hello world'] ['P', 'y', 't', 'h', 'o', 'n']\n"
     ],
     "output_type": "stream"
    }
   },
   "source": [
    "list1 = [1,2,3,4,5,6]\n",
    "list2 = [1,0.5,\"hello world\"]\n",
    "list3 = list(\"Python\")\n",
    "print(list1,list2,list3)"
   ],
   "metadata": {
    "collapsed": false,
    "pycharm": {
     "name": "#%%\n",
     "is_executing": false
    }
   ]
  },
  {
   "cell_type": "markdown",
   "metadata": {
    "id": "2DADXDfPv6xO"
   },
   "source": [
    "Поскольку список упорядоченный тип данных, то к элементам можно обращаться по индексам, причем **важно помнить**, что в в Python, как и во многих других языках индексация начинается с **0**. Пример: Возьмем первый элемент из **list1**."
   ]
  },
  {
   "cell_type": "code",
   "execution_count": 25,
   "outputs": [
    {
     "name": "stdout",
     "text": [
      "1\n"
     ],
     "output_type": "stream"
    }
   ],
   "source": [
    "print(list1[0])"
   ],
   "metadata": {
    "collapsed": false,
    "pycharm": {
     "name": "#%%\n",
     "is_executing": false
    }
   }
  },
  {
   "cell_type": "markdown",
   "metadata": {
    "id": "JQ7Lk-zJxnH9"
   },
   "source": [
    "Как и ожидалось первый элемент равен 1. \\\\\n",
    "Если требуется узнать последний элемент, но длина списка неизвестна, то можно обратиться по индексу [-1] - он указывает на последний элемент в списке:\n"
   ]
  },
  {
   "cell_type": "code",
   "execution_count": 26,
   "outputs": [
    {
     "name": "stdout",
     "text": [
      "6 5\n"
     ],
     "output_type": "stream"
    }
   ],
   "source": [
    "print(list1[-1],list1[-2])"
   ],
   "metadata": {
    "collapsed": false,
    "pycharm": {
     "name": "#%%\n",
     "is_executing": false
    }
   }
  },
  {
   "cell_type": "markdown",
   "metadata": {
    "id": "lILKaxGc1K3v"
   },
   "source": [
    "Элементы списка можно менять:"
   ]
  },
  {
   "cell_type": "code",
   "execution_count": 27,
   "outputs": [
    {
     "name": "stdout",
     "text": [
      "['newElem', 2, 3, 4, 5, 6]\n"
     ],
     "output_type": "stream"
    }
   ],
   "source": [
    "list1[0] = \"newElem\"\n",
    "print(list1)"
   ],
   "metadata": {
    "collapsed": false,
    "pycharm": {
     "name": "#%%\n",
     "is_executing": false
    }
   }
  },
  {
   "cell_type": "markdown",
   "metadata": {
    "id": "XRmWw1rS1s9P"
   },
   "source": [
    "Используя функцию **len()** можно узнать длину списка:"
   ]
  },
  {
   "cell_type": "code",
   "execution_count": 28,
   "outputs": [
    {
     "name": "stdout",
     "text": [
      "5\n"
     ],
     "output_type": "stream"
    }
   ],
   "source": [
    "listt = [1,2,3,4,5]\n",
    "print(len(listt))"
   ],
   "metadata": {
    "collapsed": false,
    "pycharm": {
     "name": "#%%\n",
     "is_executing": false
    }
   }
  },
  {
   "cell_type": "markdown",
   "source": [
    "Функция **sorted** сортирует элементы списка по возрастанию  и возвращает новый список:"
   ],
   "metadata": {
    "id": "MM-55rwH6gpF"
   },
   "source": [
    "Функция **sorted** сортирует элементы списка по возрастанию  и возвращает новый список:"
   ]
  },
  {
   "cell_type": "code",
   "execution_count": 29,
   "outputs": [
    {
     "name": "stdout",
     "text": [
      "[0, 1, 2, 4, 5, 6, 7]\n"
     ],
     "output_type": "stream"
    }
   },
   "source": [
    "nonSorted = [7,1,0,4,6,5,2]\n",
    "Sorted = sorted(nonSorted)\n",
    "print(Sorted)\n"
   ],
   "metadata": {
    "collapsed": false,
    "pycharm": {
     "name": "#%%\n",
     "is_executing": false
    }
   ]
  },
  {
   "cell_type": "markdown",
   "metadata": {
    "id": "S3b42esejfI6"
   },
   "source": [
    "# **Кортежи(Tuples)** "
   ]
  },
  {
   "cell_type": "markdown",
   "metadata": {
    "id": "OkrZ-nDR8-u-"
   },
   "source": [
    "По своей структуре кортежи похожи на списки, но в отличие от них, кортежи - неизменяемы. \\\\\n",
    "Возникает вполне логичный вопрос - зачем нужны кортежи, если есть списки? \\\\\n",
    "Ответ довольно незамысловатый:\n",
    "* Защита от случайных изменений\n",
    "* При прочих равных, кортеж занимает меньше места"
   ]
  },
  {
   "cell_type": "code",
   "execution_count": 30,
   "outputs": [
    {
     "name": "stdout",
     "text": [
      "88 \n 72\n"
     ],
     "output_type": "stream"
    }
   },
   "source": [
    "testList = [1,2,3,4,5,6]\n",
    "testTuple = (1,2,3,4,5,6)\n",
    "print(testList.__sizeof__(),'\\n',testTuple.__sizeof__() )\n"
   ],
   "metadata": {
    "collapsed": false,
    "pycharm": {
     "name": "#%%\n",
     "is_executing": false
    }
   ]
  },
  {
   "cell_type": "markdown",
   "metadata": {
    "id": "h93qhyhNCEVw"
   },
   "source": [
    "Кортеж создается аналогично спискам:"
   ]
  },
  {
   "cell_type": "code",
   "execution_count": 31,
   "outputs": [
    {
     "name": "stdout",
     "text": [
      "('t', 'u', 'p', 'l', 'e') ('a', 'b') ('a',) string\n"
     ],
     "output_type": "stream"
    }
   },
   "source": [
    "tuple1 = tuple(\"tuple\")\n",
    "tuple2 = ('a','b')\n",
    "tuple3 =('a',)\n",
    "notTuple = ('string')\n",
    "print(tuple1,tuple2,tuple3,notTuple)\n"
   ],
   "metadata": {
    "collapsed": false,
    "pycharm": {
     "name": "#%%\n",
     "is_executing": false
    }
   ]
  },
  {
   "cell_type": "markdown",
   "metadata": {
    "id": "-0eexOpuBXCa"
   },
   "source": [
    "**Важно:** \\\\\n",
    "Чтобы создать кортеж из одного элемента, необходимо после него поставить запятую *tuple3*, если этого не сделать, то получится обычная строка (*notTuple*). \\\\ \n",
    "Над кортежем определены все \"списковые\" операции, которые не будут изменять элементы кортежа.\n"
   ]
  },
  {
   "cell_type": "markdown",
   "metadata": {
    "id": "BgWrgLYBjkF0"
   },
   "source": [
    "# **Словари(Dictionaries)** \n",
    "Словарь это структура данных, которая хранит пары в виде: “‘ключ’: ‘значение’”."
   ]
  },
  {
   "cell_type": "code",
   "execution_count": 32,
   "outputs": [],
   "source": [
    "dictionary_sounds = {\n",
    "'dog': 'bark',\n",
    "'cat': 'meow',\n",
    "'cow': 'moo',\n",
    "'sheep': 'baa'}"
   ],
   "metadata": {
    "collapsed": false,
    "pycharm": {
     "name": "#%%\n",
     "is_executing": false
    }
   }
  },
  {
   "cell_type": "markdown",
   "metadata": {
    "id": "yvwIl18bD9J6"
   },
   "source": [
    "Данный словарь использует название в виде ключей, с помощью которых можно получить доступ к значениям. Использование слов в качестве ключей упрощает поиск необходимых данных. Также код становится более читаемым. В словаре звуков, выбрав название ключа, мы получим для него значение звука."
   ]
  },
  {
   "cell_type": "code",
   "execution_count": 33,
   "outputs": [
    {
     "name": "stdout",
     "text": [
      "meow\n"
     ],
     "output_type": "stream"
    }
   ],
   "source": [
    "print (dictionary_sounds['cat'])"
   ],
   "metadata": {
    "collapsed": false,
    "pycharm": {
     "name": "#%%\n",
     "is_executing": false
    }
   }

  },
  {
   "cell_type": "markdown",
   "metadata": {
    "id": "v5UpkMdgEGlz"
   },
   "source": [
    "В качестве ключей можно также использовать и числа"
   ]
  },
  {
   "cell_type": "code",
   "execution_count": 34,
   "outputs": [
    {
     "name": "stdout",
     "text": [
      "Leonard Ivanov\n"
     ],
     "output_type": "stream"
    }
   },
   "source": [
    "dictionary_house = {1: 'John Smith',\n",
    "2: 'Ivan Petrov',\n",
    "45: 'Leonard Ivanov'}\n",
    "print(dictionary_house[45])"
   ],
   "metadata": {
    "collapsed": false,
    "pycharm": {
     "name": "#%%\n",
     "is_executing": false
    }
   ]
  },
  {
   "cell_type": "markdown",
   "source": [
    "Также в списках не обязательно нумеровать значения попорядку. Еще здесь можно хранить значения разных типов данных\n"
   ],
   "metadata": {
    "id": "_BdL9lWBETrD"
   },
   "source": [
    "Также в списках не обязательно нумеровать значения попорядку. Еще здесь можно хранить значения разных типов данных\n"
   ]
  },
  {
   "cell_type": "code",
   "execution_count": 35,
   "outputs": [
    {
     "name": "stdout",
     "text": [
      "77\n"
     ],
     "output_type": "stream"
    }
   },
   "source": [
    "dictionary = {'region': 77,\n",
    "8080: 'Hello World'}\n",
    "print(dictionary['region'])"
   ],
   "metadata": {
    "collapsed": false,
    "pycharm": {
     "name": "#%%\n",
     "is_executing": false
    }
   }
  },
  {
   "cell_type": "markdown",
   "source": [
    "Программирование сделано для того, чтобы упростить повторяющиеся задачи. И довольно часто задачи связаны с расчетами.<br>\n",
    "Посчитать итоговый чек в магазине, посмотреть сколько конфет можно купить на имеющуюся сумму денег, сколько минут ехать от Москвы до Питера и т.д.\n"
   ],
   "metadata": {
    "collapsed": false
   }
  },
  {
   "cell_type": "markdown",
   "source": [
    "# **Арифметические операторы:** "
   ],
   "metadata": {
    "collapsed": false
   }
  },
  {
   "cell_type": "markdown",
   "source": [
    "Арифметические операторы используются для выполнения базовых вычислений."
   ],
   "metadata": {
    "collapsed": false
   }
  },
  {
   "cell_type": "markdown",
   "source": [
    "# Сложение (+)<br>\n",
    "x + y <br>\n",
    "Складывает значения слева и справа от оператора."
   ],
   "metadata": {
    "collapsed": false
   }
  },
  {
   "cell_type": "code",
   "execution_count": 36,
   "outputs": [
    {
     "name": "stdout",
     "text": [
      "8 3\n"
     ],
     "output_type": "stream"
    }
   ],
   "source": [
    "x = 5\n",
    "y = 3\n",
    "s = 2 + 1\n",
    "print(x + y, s)"
   ],
   "metadata": {
    "collapsed": false,
    "pycharm": {
     "name": "#%%\n",
     "is_executing": false
    }
   }
  },
  {
   "cell_type": "markdown",
   "source": [
    "# Вычитание (-)<br>\n",
    "x - y <br>\n",
    "Вычитает из левого числа правое."
   ],
   "metadata": {
    "collapsed": false
   }
  },
  {
   "cell_type": "code",
   "execution_count": 37,
   "outputs": [
    {
     "name": "stdout",
     "text": [
      "4 9\n"
     ],
     "output_type": "stream"
    }
   ],
   "source": [
    "x = 6\n",
    "y = 2\n",
    "s = 10 - 1\n",
    "print(x - y, s)"
   ],
   "metadata": {
    "collapsed": false,
    "pycharm": {
     "name": "#%%\n",
     "is_executing": false
    }
   }
  },
  {
   "cell_type": "markdown",
   "source": [
    "# Умножение (*)<br>\n",
    "x * y <br>\n",
    "Перемножает значения слева и справа от оператора."
   ],
   "metadata": {
    "collapsed": false
   }
  },
  {
   "cell_type": "code",
   "execution_count": 38,
   "outputs": [
    {
     "name": "stdout",
     "text": [
      "12 20\n"
     ],
     "output_type": "stream"
    }
   ],
   "source": [
    "x = 6\n",
    "y = 2\n",
    "s = 5 * 4\n",
    "print(x * y, s)"
   ],
   "metadata": {
    "collapsed": false,
    "pycharm": {
     "name": "#%%\n",
     "is_executing": false
    }
   }
  },
  {
   "cell_type": "markdown",
   "source": [
    "# Деление (/)<br>\n",
    "x / y <br>\n",
    "Делит значение слева от оператора на значение справа.<br>\n",
    "!!!Результатом будет число с плавающей точкой - float!!!"
   ],
   "metadata": {
    "collapsed": false
   }
  },
  {
   "cell_type": "code",
   "execution_count": 39,
   "outputs": [
    {
     "name": "stdout",
     "text": [
      "3.0 1.25\n"
     ],
     "output_type": "stream"
    }
   ],
   "source": [
    "x = 6\n",
    "y = 2\n",
    "s = 5 / 4\n",
    "print(x / y, s)"
   ],
   "metadata": {
    "collapsed": false,
    "pycharm": {
     "name": "#%%\n",
     "is_executing": false
    }
   }
  },
  {
   "cell_type": "markdown",
   "source": [
    "# Целочисленное деление (//)<br>\n",
    "x // y <br>\n",
    "Выделяет целую часть при делении значения слева от оператора на значение справа.<br>\n"
   ],
   "metadata": {
    "collapsed": false
   }
  },
  {
   "cell_type": "code",
   "execution_count": 40,
   "outputs": [
    {
     "name": "stdout",
     "text": [
      "6 1\n"
     ],
     "output_type": "stream"
    }
   ],
   "source": [
    "x = 12\n",
    "y = 2\n",
    "s = 7 // 4\n",
    "print(x // y, s)"
   ],
   "metadata": {
    "collapsed": false,
    "pycharm": {
     "name": "#%%\n",
     "is_executing": false
    }
   }
  },
  {
   "cell_type": "markdown",
   "source": [
    "# Получение остатка (%)<br>\n",
    "x % y <br>\n",
    "Выделяет дробную часть при делении значения слева от оператора на значение справа.<br>"
   ],
   "metadata": {
    "collapsed": false
   }
  },
  {
   "cell_type": "code",
   "execution_count": 41,
   "outputs": [
    {
     "name": "stdout",
     "text": [
      "0 3\n"
     ],
     "output_type": "stream"
    }
   ],
   "source": [
    "x = 12\n",
    "y = 2\n",
    "s = 7 % 4\n",
    "print(x % y, s)"
   ],
   "metadata": {
    "collapsed": false,
    "pycharm": {
     "name": "#%%\n",
     "is_executing": false
    }
   }
  },
  {
   "cell_type": "markdown",
   "source": [
    "# Возведение в степень (**)<br>\n",
    "x ** y <br>\n",
    "Возводчит число слева от оператора в степень равную числу справа от опреатора."
   ],
   "metadata": {
    "collapsed": false
   }
  },
  {
   "cell_type": "code",
   "execution_count": 42,
   "outputs": [
    {
     "name": "stdout",
     "text": [
      "32 81\n"
     ],
     "output_type": "stream"
    }
   ],
   "source": [
    "x = 2\n",
    "y = 5\n",
    "s = 3 ** 4\n",
    "print(x ** y, s)\n"
   ],
   "metadata": {
    "collapsed": false,
    "pycharm": {
     "name": "#%%\n",
     "is_executing": false
    }
   ]
  }
 ]

}