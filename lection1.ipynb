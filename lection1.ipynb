{
 "nbformat": 4,
 "nbformat_minor": 0,
 "metadata": {
  "colab": {
   "name": "lection.ipynb",
   "provenance": [],
   "collapsed_sections": []
  },
  "kernelspec": {
   "name": "python3",
   "language": "python",
   "display_name": "Python 3"
  }
 },
 "cells": [
  {
   "cell_type": "markdown",
   "source": [
    "# **Целые (int)** \n",
    "Тип данных **int** хранит целые числа: \\\\\n"
   ],
   "metadata": {
    "collapsed": false
   }
  },
  {
   "cell_type": "code",
   "execution_count": 2,
   "outputs": [
    {
     "name": "stdout",
     "output_type": "stream",
     "text": [
      "5 -24\n"
     ]
    }
   ],
   "source": [
    "x = 5\n",
    "y = -24\n",
    "print(x, y)"
   ],
   "metadata": {
    "collapsed": false,
    "pycharm": {
     "name": "#%%\n"
    }
   }
  },
  {
   "cell_type": "markdown",
   "source": [
    "# **С плавающей точкой (float)** \n",
    "Тип данных float хранит дробные числа: \\\\"
   ],
   "metadata": {
    "collapsed": false
   }
  },
  {
   "cell_type": "code",
   "execution_count": 3,
   "outputs": [
    {
     "name": "stdout",
     "output_type": "stream",
     "text": [
      "12.56 -0.45\n"
     ]
    }
   ],
   "source": [
    "x = 12.56\n",
    "y = -0.45\n",
    "print(x, y)"
   ],
   "metadata": {
    "collapsed": false,
    "pycharm": {
     "name": "#%%\n"
    }
   }
  },
  {
   "cell_type": "markdown",
   "source": [
    "Можно ли представить представить целые числа как вещественные? Если да, то приведите пример?"
   ],
   "metadata": {
    "collapsed": false
   }
  },
  {
   "cell_type": "markdown",
   "source": [
    "Почему не использовать float всегда? Память компьютера ограничена. А float занимает больше места чем int. Поэтому в зависимости от задачи используют int или float, чтобы не тратить в пустую память компьютера. \\\\\n",
    "Допустим надо записать сколько учеников в классе. Количество учеников всегда целое число, нельзя написать 1,5 ученика. Поэтому эти данные следует хранить в int, чтобы сэконмить память компьютера."
   ],
   "metadata": {
    "collapsed": false
   }
  },
  {
   "cell_type": "markdown",
   "source": [
    "# **Логический тип (Boolean)** \n",
    "Логический тип данных хранит в себе одно из двух значений: True или False. \\\\\n",
    "Также True и False представляют как 1 и 0. По этой причине на включателях розеток есть кнопка с 0 и 1. Она отвечает за состояния включено(1) и выключено(0)."
   ],
   "metadata": {
    "collapsed": false
   }
  },
  {
   "cell_type": "code",
   "execution_count": 4,
   "outputs": [
    {
     "name": "stdout",
     "output_type": "stream",
     "text": [
      "True False 1\n"
     ]
    }
   ],
   "source": [
    "x = True\n",
    "y = False\n",
    "print (x, y, True + False)"
   ],
   "metadata": {
    "collapsed": false,
    "pycharm": {
     "name": "#%%\n"
    }
   }
  },
  {
   "cell_type": "markdown",
   "source": [
    "# **Строки (String)**\n",
    "Строки хранят в себе последовательность из символов: букв, цифр и остальных знаков на клавиатуре. Строки записываются в 'одинарных' или \"двойных\" кавычках."
   ],
   "metadata": {
    "collapsed": false
   }
  },
  {
   "cell_type": "code",
   "execution_count": 5,
   "outputs": [
    {
     "name": "stdout",
     "output_type": "stream",
     "text": [
      "Hello World1 !!!\n"
     ]
    }
   ],
   "source": [
    "str1 = \"Hello\"\n",
    "str2 = 'World1'\n",
    "print (str1, str2, \"!!!\")"
   ],
   "metadata": {
    "collapsed": false,
    "pycharm": {
     "name": "#%%\n"
    }
   }
  },
  {
   "cell_type": "markdown",
   "source": [
    "# **Списки(Lists)** \n",
    "Список в Python можно определить так:\n",
    "* последовательность элементов, разделенных между собой запятой и заключенных в квадратные скобки\n",
    "* изменяемый упорядоченный тип данных\n",
    "\n",
    "Список можно создать несколькими способами:"
   ],
   "metadata": {
    "collapsed": false
   }
  },
  {
   "cell_type": "code",
   "execution_count": 6,
   "outputs": [
    {
     "name": "stdout",
     "output_type": "stream",
     "text": [
      "[1, 2, 3, 4, 5, 6] [1, 0.5, 'hello world'] ['P', 'y', 't', 'h', 'o', 'n']\n"
     ]
    }
   ],
   "source": [
    "list1 = [1,2,3,4,5,6]\n",
    "list2 = [1,0.5,\"hello world\"]\n",
    "list3 = list(\"Python\")\n",
    "print(list1,list2,list3)"
   ],
   "metadata": {
    "collapsed": false,
    "pycharm": {
     "name": "#%%\n"
    }
   }
  },
  {
   "cell_type": "markdown",
   "source": [
    "Поскольку список упорядоченный тип данных, то к элементам можно обращаться по индексам, причем **важно помнить**, что в в Python, как и во многих других языках индексация начинается с **0**. Пример: Возьмем первый элемент из **list1**."
   ],
   "metadata": {
    "collapsed": false
   }
  },
  {
   "cell_type": "code",
   "execution_count": 7,
   "outputs": [
    {
     "name": "stdout",
     "output_type": "stream",
     "text": [
      "1\n"
     ]
    }
   ],
   "source": [
    "print(list1[0])"
   ],
   "metadata": {
    "collapsed": false,
    "pycharm": {
     "name": "#%%\n"
    }
   }
  },
  {
   "cell_type": "markdown",
   "source": [
    "Как и ожидалось первый элемент равен 1. \\\\\n",
    "Если требуется узнать последний элемент, но длина списка неизвестна, то можно обратиться по индексу [-1] - он указывает на последний элемент в списке:"
   ],
   "metadata": {
    "collapsed": false
   }
  },
  {
   "cell_type": "code",
   "execution_count": 8,
   "outputs": [
    {
     "name": "stdout",
     "output_type": "stream",
     "text": [
      "6 5\n"
     ]
    }
   ],
   "source": [
    "print(list1[-1],list1[-2])"
   ],
   "metadata": {
    "collapsed": false,
    "pycharm": {
     "name": "#%%\n"
    }
   }
  },
  {
   "cell_type": "markdown",
   "source": [
    "Элементы списка можно менять:"
   ],
   "metadata": {
    "collapsed": false
   }
  },
  {
   "cell_type": "code",
   "execution_count": 9,
   "outputs": [
    {
     "name": "stdout",
     "output_type": "stream",
     "text": [
      "['newElem', 2, 3, 4, 5, 6]\n"
     ]
    }
   ],
   "source": [
    "list1[0] = \"newElem\"\n",
    "print(list1)"
   ],
   "metadata": {
    "collapsed": false,
    "pycharm": {
     "name": "#%%\n"
    }
   }
  },
  {
   "cell_type": "markdown",
   "source": [
    "Используя функцию **len()** можно узнать длину списка:"
   ],
   "metadata": {
    "collapsed": false
   }
  },
  {
   "cell_type": "code",
   "execution_count": 10,
   "outputs": [
    {
     "name": "stdout",
     "output_type": "stream",
     "text": [
      "5\n"
     ]
    }
   ],
   "source": [
    "listt = [1,2,3,4,5]\n",
    "print(len(listt))"
   ],
   "metadata": {
    "collapsed": false,
    "pycharm": {
     "name": "#%%\n"
    }
   }
  },
  {
   "cell_type": "markdown",
   "source": [
    "Функция **sorted** сортирует элементы списка по возрастанию и возвращает новый список:"
   ],
   "metadata": {
    "collapsed": false
   }
  },
  {
   "cell_type": "code",
   "execution_count": 11,
   "outputs": [
    {
     "name": "stdout",
     "output_type": "stream",
     "text": [
      "[0, 1, 2, 4, 5, 6, 7]\n"
     ]
    }
   ],
   "source": [
    "nonSorted = [7,1,0,4,6,5,2]\n",
    "Sorted = sorted(nonSorted)\n",
    "print(Sorted)"
   ],
   "metadata": {
    "collapsed": false,
    "pycharm": {
     "name": "#%%\n"
    }
   }
  },
  {
   "cell_type": "markdown",
   "source": [
    "# **Кортежи(Tuples)** "
   ],
   "metadata": {
    "collapsed": false
   }
  },
  {
   "cell_type": "markdown",
   "source": [
    "По своей структуре кортежи похожи на списки, но в отличие от них, кортежи - неизменяемы. \\\\\n",
    "Возникает вполне логичный вопрос - зачем нужны кортежи, если есть списки? \\\\\n",
    "Ответ довольно незамысловатый:\n",
    "* Защита от случайных изменений\n",
    "* При прочих равных, кортеж занимает меньше места"
   ],
   "metadata": {
    "collapsed": false
   }
  },
  {
   "cell_type": "code",
   "execution_count": 12,
   "outputs": [
    {
     "name": "stdout",
     "output_type": "stream",
     "text": [
      "88 \n",
      " 72\n"
     ]
    }
   ],
   "source": [
    "testList = [1,2,3,4,5,6]\n",
    "testTuple = (1,2,3,4,5,6)\n",
    "print(testList.__sizeof__(),'\\n',testTuple.__sizeof__() )"
   ],
   "metadata": {
    "collapsed": false,
    "pycharm": {
     "name": "#%%\n"
    }
   }
  },
  {
   "cell_type": "markdown",
   "source": [
    "Кортеж создается аналогично спискам:"
   ],
   "metadata": {
    "collapsed": false
   }
  },
  {
   "cell_type": "code",
   "execution_count": 13,
   "outputs": [
    {
     "name": "stdout",
     "output_type": "stream",
     "text": [
      "('t', 'u', 'p', 'l', 'e') ('a', 'b') ('a',) string\n"
     ]
    }
   ],
   "source": [
    "tuple1 = tuple(\"tuple\")\n",
    "tuple2 = ('a','b')\n",
    "tuple3 =('a',)\n",
    "notTuple = ('string')\n",
    "print(tuple1,tuple2,tuple3,notTuple)"
   ],
   "metadata": {
    "collapsed": false,
    "pycharm": {
     "name": "#%%\n"
    }
   }
  },
  {
   "cell_type": "markdown",
   "source": [
    "**Важно:** \\\\\n",
    "Чтобы создать кортеж из одного элемента, необходимо после него поставить запятую *tuple3*, если этого не сделать, то получится обычная строка (*notTuple*). \\\\ \n",
    "Над кортежем определены все \"списковые\" операции, которые не будут изменять элементы кортежа.\n"
   ],
   "metadata": {
    "collapsed": false
   }
  },
  {
   "cell_type": "markdown",
   "source": [
    "# **Словари(Dictionaries)** \n",
    "Словарь это структура данных, которая хранит пары в виде: “‘ключ’: ‘значение’”."
   ],
   "metadata": {
    "collapsed": false
   }
  },
  {
   "cell_type": "code",
   "execution_count": 14,
   "outputs": [],
   "source": [
    "dictionary_sounds = {\n",
    "'dog': 'bark',\n",
    "'cat': 'meow',\n",
    "'cow': 'moo',\n",
    "'sheep': 'baa'}"
   ],
   "metadata": {
    "collapsed": false,
    "pycharm": {
     "name": "#%%\n"
    }
   }
  },
  {
   "cell_type": "markdown",
   "source": [
    "Данный словарь использует название в виде ключей, с помощью которых можно получить доступ к значениям. Использование слов в качестве ключей упрощает поиск необходимых данных. Также код становится более читаемым. В словаре звуков, выбрав название ключа, мы получим для него значение звука."
   ],
   "metadata": {
    "collapsed": false
   }
  },
  {
   "cell_type": "code",
   "execution_count": 15,
   "outputs": [
    {
     "name": "stdout",
     "output_type": "stream",
     "text": [
      "meow\n"
     ]
    }
   ],
   "source": [
    "print (dictionary_sounds['cat'])"
   ],
   "metadata": {
    "collapsed": false,
    "pycharm": {
     "name": "#%%\n"
    }
   }
  },
  {
   "cell_type": "markdown",
   "source": [
    "В качестве ключей можно также использовать и числа"
   ],
   "metadata": {
    "collapsed": false
   }
  },
  {
   "cell_type": "code",
   "execution_count": 16,
   "outputs": [
    {
     "name": "stdout",
     "output_type": "stream",
     "text": [
      "Leonard Ivanov\n"
     ]
    }
   ],
   "source": [
    "dictionary_house = {1: 'John Smith',\n",
    "2: 'Ivan Petrov',\n",
    "45: 'Leonard Ivanov'}\n",
    "print(dictionary_house[45])"
   ],
   "metadata": {
    "collapsed": false,
    "pycharm": {
     "name": "#%%\n"
    }
   }
  },
  {
   "cell_type": "markdown",
   "source": [
    "Также в списках необязательно нумеровать значения по порядку. Еще здесь можно хранить значения разных типов данных\n"
   ],
   "metadata": {
    "collapsed": false
   }
  },
  {
   "cell_type": "code",
   "execution_count": 17,
   "outputs": [
    {
     "name": "stdout",
     "output_type": "stream",
     "text": [
      "77\n"
     ]
    }
   ],
   "source": [
    "dictionary = {'region': 77,\n",
    "8080: 'Hello World'}\n",
    "print(dictionary['region'])"
   ],
   "metadata": {
    "collapsed": false,
    "pycharm": {
     "name": "#%%\n"
    }
   }
  }
 ]
}