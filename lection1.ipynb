{
  "nbformat": 4,
  "nbformat_minor": 0,
  "metadata": {
    "colab": {
      "name": "lection.ipynb",
      "provenance": [],
      "collapsed_sections": []
    },
    "kernelspec": {
      "name": "python3",
      "display_name": "Python 3"
    }
  },
  "cells": [
    {
      "cell_type": "markdown",
      "metadata": {
        "id": "5KMcvHyhhkHT"
      },
      "source": [
        "**Целые (int)** \\\\\n",
        "Тип данных **int** хранит целые числа: \\\\\n"
      ]
    },
    {
      "cell_type": "code",
      "metadata": {
        "colab": {
          "base_uri": "https://localhost:8080/"
        },
        "id": "KYRtS8F6eQvo",
        "outputId": "760ef666-fc08-4d7f-9bc0-6a0d6c76106d"
      },
      "source": [
        "x = 5\n",
        "y = -24\n",
        "print(x, y)"
      ],
      "execution_count": null,
      "outputs": [
        {
          "output_type": "stream",
          "text": [
            "5 -24\n"
          ],
          "name": "stdout"
        }
      ]
    },
    {
      "cell_type": "markdown",
      "metadata": {
        "id": "Fjy5Spu9i0mX"
      },
      "source": [
        "**С плавающей точкой (float)** \\\\\n",
        "Тип данных float хранит дробные числа: \\\\"
      ]
    },
    {
      "cell_type": "code",
      "metadata": {
        "colab": {
          "base_uri": "https://localhost:8080/"
        },
        "id": "vNWghR-ei_2A",
        "outputId": "5f8af6a6-1929-43eb-b4ad-77c2fbae9fea"
      },
      "source": [
        "x = 12.56\n",
        "y = -0.45\n",
        "print(x, y)"
      ],
      "execution_count": null,
      "outputs": [
        {
          "output_type": "stream",
          "text": [
            "12.56 -0.45\n"
          ],
          "name": "stdout"
        }
      ]
    },
    {
      "cell_type": "markdown",
      "metadata": {
        "id": "szT04BbdjMwD"
      },
      "source": [
        "Можно ли представить представить целые числа как вещественные? Если да, то приведите пример?"
      ]
    },
    {
      "cell_type": "markdown",
      "metadata": {
        "id": "RG8f7puTnnui"
      },
      "source": [
        "Почему не использовать float всегда? Память компьютера ограничена. А float занимает больше места чем int. Поэтому в зависимости от задачи используют int или float, чтобы не тратить в пустую память компьютера. \\\\\n",
        "Допустим надо записать сколько учеников в классе. Количество учеников всегда целое число, нельзя написать 1,5 ученика. Поэтому эти данные следует хранить в int, чтобы сэконмить память компьютера."
      ]
    },
    {
      "cell_type": "markdown",
      "metadata": {
        "id": "c9gxSNM6jPJv"
      },
      "source": [
        "**Логический тип (Boolean)** \\\\\n",
        "Логический тип данных хранит в себе одно из двух значений: True или False. \\\\\n",
        "Также True и False представляют как 1 и 0. По этой причине на включателях розеток есть кнопка с 0 и 1. Она отвечает за состояния включено(1) и выключено(0)."
      ]
    },
    {
      "cell_type": "code",
      "metadata": {
        "colab": {
          "base_uri": "https://localhost:8080/"
        },
        "id": "AxyatvH6jmYv",
        "outputId": "7fe694aa-ef20-4c1b-eb3e-bdcacd828f07"
      },
      "source": [
        "x = True\n",
        "y = False\n",
        "print (x, y, True + False)"
      ],
      "execution_count": null,
      "outputs": [
        {
          "output_type": "stream",
          "text": [
            "True False 0\n"
          ],
          "name": "stdout"
        }
      ]
    },
    {
      "cell_type": "markdown",
      "metadata": {
        "id": "dICN40VUjbec"
      },
      "source": [
        "**Строки (String)** \\\\\n",
        "Строки хранят в себе последовательность из символов: букв, цифр и остальных знаков на клавиатуре. Строки записываются в 'одинарных' или \"двойных\" кавычках."
      ]
    },
    {
      "cell_type": "code",
      "metadata": {
        "colab": {
          "base_uri": "https://localhost:8080/"
        },
        "id": "qaxTtP9JzLUI",
        "outputId": "91d591b9-561d-49c4-f80f-e68262f356cc"
      },
      "source": [
        "str1 = \"Hello\"\n",
        "str2 = 'World1'\n",
        "print (str1, str2, \"!!!\")"
      ],
      "execution_count": null,
      "outputs": [
        {
          "output_type": "stream",
          "text": [
            "Hello World1 !!!\n"
          ],
          "name": "stdout"
        }
      ]
    },
    {
      "cell_type": "markdown",
      "metadata": {
        "id": "UpQPXnX6jdKc"
      },
      "source": [
        "**Списки(Lists)** \\\\\r\n",
        "Список в Python можно определить так:\r\n",
        "* последовательность элементов, разделенных между собой запятой и заключенных в квадратные скобки\r\n",
        "* изменяемый упорядоченный тип данных\r\n",
        "\r\n",
        "Список можно создать несколькими способами:\r\n",
        "\r\n",
        "\r\n",
        "\r\n"
      ]
    },
    {
      "cell_type": "code",
      "metadata": {
        "colab": {
          "base_uri": "https://localhost:8080/"
        },
        "id": "hizRxOFjvKEy",
        "outputId": "71165f05-658f-43b3-b2ae-f68cf5b593b7"
      },
      "source": [
        "list1 = [1,2,3,4,5,6]\r\n",
        "list2 = [1,0.5,\"hello world\"]\r\n",
        "list3 = list(\"Python\")\r\n",
        "print(list1,list2,list3)"
      ],
      "execution_count": null,
      "outputs": [
        {
          "output_type": "stream",
          "text": [
            "[1, 2, 3, 4, 5, 6] [1, 0.5, 'hello world'] ['P', 'y', 't', 'h', 'o', 'n']\n"
          ],
          "name": "stdout"
        }
      ]
    },
    {
      "cell_type": "markdown",
      "metadata": {
        "id": "2DADXDfPv6xO"
      },
      "source": [
        "Поскольку список упорядоченный тип данных, то к элементам можно обращаться по индексам, причем **важно помнить**, что в в Python, как и во многих других языках индексация начинается с **0**. Пример: Возьмем первый элемент из **list1**."
      ]
    },
    {
      "cell_type": "code",
      "metadata": {
        "colab": {
          "base_uri": "https://localhost:8080/"
        },
        "id": "DTs6tumjx5KE",
        "outputId": "ce2111d7-c93c-4476-e628-1079b1ebfd4f"
      },
      "source": [
        "print(list1[0])"
      ],
      "execution_count": null,
      "outputs": [
        {
          "output_type": "execute_result",
          "data": {
            "text/plain": [
              "1"
            ]
          },
          "metadata": {
            "tags": []
          },
          "execution_count": 8
        }
      ]
    },
    {
      "cell_type": "markdown",
      "metadata": {
        "id": "JQ7Lk-zJxnH9"
      },
      "source": [
        "Как и ожидалось первый элемент равен 1. \\\\\r\n",
        "Если требуется узнать последний элемент, но длина списка неизвестна, то можно обратиться по индексу [-1] - он указывает на последний элемент в списке:"
      ]
    },
    {
      "cell_type": "code",
      "metadata": {
        "colab": {
          "base_uri": "https://localhost:8080/"
        },
        "id": "JiHTRl6E06R0",
        "outputId": "650fedc2-0daa-42ec-e0b0-b439a3490aef"
      },
      "source": [
        "print(list1[-1],list1[-2])\r\n"
      ],
      "execution_count": null,
      "outputs": [
        {
          "output_type": "stream",
          "text": [
            "6 5\n"
          ],
          "name": "stdout"
        }
      ]
    },
    {
      "cell_type": "markdown",
      "metadata": {
        "id": "lILKaxGc1K3v"
      },
      "source": [
        "Элементы списка можно менять:"
      ]
    },
    {
      "cell_type": "code",
      "metadata": {
        "colab": {
          "base_uri": "https://localhost:8080/"
        },
        "id": "oNKeaC5u1gn8",
        "outputId": "328f4bf4-b9bd-4c90-ccbe-0455d988fefa"
      },
      "source": [
        "list1[0] = \"newElem\"\r\n",
        "print(list1)"
      ],
      "execution_count": null,
      "outputs": [
        {
          "output_type": "stream",
          "text": [
            "['newElem', 2, 3, 4, 5, 6]\n"
          ],
          "name": "stdout"
        }
      ]
    },
    {
      "cell_type": "markdown",
      "metadata": {
        "id": "XRmWw1rS1s9P"
      },
      "source": [
        "Используя функцию **len()** можно узнать длину списка:"
      ]
    },
    {
      "cell_type": "code",
      "metadata": {
        "colab": {
          "base_uri": "https://localhost:8080/"
        },
        "id": "hLX4NTdq52m5",
        "outputId": "71b0de24-faaf-4be6-dc6f-e8afaa53220f"
      },
      "source": [
        "listt = [1,2,3,4,5]\r\n",
        "print(len(listt))"
      ],
      "execution_count": 13,
      "outputs": [
        {
          "output_type": "stream",
          "text": [
            "5\n"
          ],
          "name": "stdout"
        }
      ]
    },
    {
      "cell_type": "markdown",
      "metadata": {
        "id": "MM-55rwH6gpF"
      },
      "source": [
        "Функция **sorted** сортирует элементы списка по возрастанию  и возвращает новый список:"
      ]
    },
    {
      "cell_type": "code",
      "metadata": {
        "colab": {
          "base_uri": "https://localhost:8080/"
        },
        "id": "gtavn_4d6vvJ",
        "outputId": "0632002e-ae0b-4e30-e2c3-567a46eb7c3e"
      },
      "source": [
        "nonSorted = [7,1,0,4,6,5,2]\r\n",
        "Sorted = sorted(nonSorted)\r\n",
        "print(Sorted)"
      ],
      "execution_count": 15,
      "outputs": [
        {
          "output_type": "stream",
          "text": [
            "[0, 1, 2, 4, 5, 6, 7]\n"
          ],
          "name": "stdout"
        }
      ]
    },
    {
      "cell_type": "markdown",
      "metadata": {
        "id": "S3b42esejfI6"
      },
      "source": [
        "**Кортежи(Tuples)** \\\\"
      ]
    },
    {
      "cell_type": "markdown",
      "metadata": {
        "id": "BgWrgLYBjkF0"
      },
      "source": [
        "**Словари(Dictionaries)** \\\\"
      ]
    }
  ]
}