{
 "nbformat": 4,
 "nbformat_minor": 0,
 "metadata": {
  "colab": {
   "name": "lection.ipynb",
   "provenance": [],
   "collapsed_sections": []
  },
  "kernelspec": {
   "name": "python3",
   "display_name": "Python 3"
  }
 },
 "cells": [
  {
   "cell_type": "markdown",
   "metadata": {
    "id": "5KMcvHyhhkHT"
   },
   "source": [
    "# **Целые (int)** \n",
    "Тип данных **int** хранит целые числа: \\\\"
   ]
  },
  {
   "cell_type": "code",
   "metadata": {
    "colab": {
     "base_uri": "https://localhost:8080/"
    },
    "id": "KYRtS8F6eQvo",
    "outputId": "760ef666-fc08-4d7f-9bc0-6a0d6c76106d",
    "pycharm": {
     "is_executing": false
    }
   },
   "source": [
    "x = 5\n",
    "y = -24\n",
    "print(x, y)"
   ],
   "execution_count": 38,
   "outputs": [
    {
     "name": "stdout",
     "text": [
      "5 -24\n"
     ],
     "output_type": "stream"
    }
   ]
  },
  {
   "cell_type": "markdown",
   "metadata": {
    "id": "Fjy5Spu9i0mX"
   },
   "source": [
    "# **С плавающей точкой (float)** \n",
    "Тип данных float хранит дробные числа: \\\\"
   ]
  },
  {
   "cell_type": "code",
   "metadata": {
    "colab": {
     "base_uri": "https://localhost:8080/"
    },
    "id": "vNWghR-ei_2A",
    "outputId": "5f8af6a6-1929-43eb-b4ad-77c2fbae9fea",
    "pycharm": {
     "is_executing": false
    }
   },
   "source": [
    "x = 12.56\n",
    "y = -0.45\n",
    "print(x, y)"
   ],
   "execution_count": 39,
   "outputs": [
    {
     "name": "stdout",
     "text": [
      "12.56 -0.45\n"
     ],
     "output_type": "stream"
    }
   ]
  },
  {
   "cell_type": "markdown",
   "metadata": {
    "id": "szT04BbdjMwD"
   },
   "source": [
    "Можно ли представить представить целые числа как вещественные? Если да, то приведите пример?"
   ]
  },
  {
   "cell_type": "markdown",
   "metadata": {
    "id": "RG8f7puTnnui"
   },
   "source": [
    "Почему не использовать float всегда? Память компьютера ограничена. А float занимает больше места чем int. Поэтому в зависимости от задачи используют int или float, чтобы не тратить в пустую память компьютера. \\\\\n",
    "Допустим надо записать сколько учеников в классе. Количество учеников всегда целое число, нельзя написать 1,5 ученика. Поэтому эти данные следует хранить в int, чтобы сэконмить память компьютера."
   ]
  },
  {
   "cell_type": "markdown",
   "metadata": {
    "id": "c9gxSNM6jPJv"
   },
   "source": [
    "# **Логический тип (Boolean)** \n",
    "Логический тип данных хранит в себе одно из двух значений: True или False. \\\\\n",
    "Также True и False представляют как 1 и 0. По этой причине на включателях розеток есть кнопка с 0 и 1. Она отвечает за состояния включено(1) и выключено(0)."
   ]
  },
  {
   "cell_type": "code",
   "metadata": {
    "colab": {
     "base_uri": "https://localhost:8080/"
    },
    "id": "AxyatvH6jmYv",
    "outputId": "7fe694aa-ef20-4c1b-eb3e-bdcacd828f07",
    "pycharm": {
     "is_executing": false
    }
   },
   "source": [
    "x = True\n",
    "y = False\n",
    "print (x, y, True + False)"
   ],
   "execution_count": 40,
   "outputs": [
    {
     "name": "stdout",
     "text": [
      "True False 1\n"
     ],
     "output_type": "stream"
    }
   ]
  },
  {
   "cell_type": "markdown",
   "metadata": {
    "id": "dICN40VUjbec"
   },
   "source": [
    "# **Строки (String)**\n",
    "Строки хранят в себе последовательность из символов: букв, цифр и остальных знаков на клавиатуре. Строки записываются в 'одинарных' или \"двойных\" кавычках."
   ]
  },
  {
   "cell_type": "code",
   "metadata": {
    "colab": {
     "base_uri": "https://localhost:8080/"
    },
    "id": "qaxTtP9JzLUI",
    "outputId": "91d591b9-561d-49c4-f80f-e68262f356cc",
    "pycharm": {
     "is_executing": false
    }
   },
   "source": [
    "str1 = \"Hello\"\n",
    "str2 = 'World1'\n",
    "print (str1, str2, \"!!!\")"
   ],
   "execution_count": 41,
   "outputs": [
    {
     "name": "stdout",
     "text": [
      "Hello",
      " World1 !!!\n"
     ],
     "output_type": "stream"
    }
   ]
  },
  {
   "cell_type": "markdown",
   "metadata": {
    "id": "UpQPXnX6jdKc",
    "pycharm": {
     "name": "#%% md\n"
    }
   },
   "source": [
    "# **Списки(Lists)** \n",
    "Список в Python можно определить так:\n",
    "* последовательность элементов, разделенных между собой запятой и заключенных в квадратные скобки\n",
    "* изменяемый упорядоченный тип данных\n",
    "\n",
    "Список можно создать несколькими способами:"
   ]
  },
  {
   "cell_type": "code",
   "metadata": {
    "colab": {
     "base_uri": "https://localhost:8080/"
    },
    "id": "hizRxOFjvKEy",
    "outputId": "71165f05-658f-43b3-b2ae-f68cf5b593b7",
    "pycharm": {
     "is_executing": false
    }
   },
   "source": [
    "list1 = [1,2,3,4,5,6]\n",
    "list2 = [1,0.5,\"hello world\"]\n",
    "list3 = list(\"Python\")\n",
    "print(list1,list2,list3)"
   ],
   "execution_count": 42,
   "outputs": [
    {
     "name": "stdout",
     "text": [
      "[1, 2, 3, 4, 5, 6] [1, 0.5, 'hello world'] ['P', 'y', 't', 'h', 'o', 'n']\n"
     ],
     "output_type": "stream"
    }
   ]
  },
  {
   "cell_type": "markdown",
   "metadata": {
    "id": "2DADXDfPv6xO"
   },
   "source": [
    "Поскольку список упорядоченный тип данных, то к элементам можно обращаться по индексам, причем **важно помнить**, что в в Python, как и во многих других языках индексация начинается с **0**. Пример: Возьмем первый элемент из **list1**."
   ]
  },
  {
   "cell_type": "code",
   "metadata": {
    "colab": {
     "base_uri": "https://localhost:8080/"
    },
    "id": "DTs6tumjx5KE",
    "outputId": "ce2111d7-c93c-4476-e628-1079b1ebfd4f",
    "pycharm": {
     "is_executing": false
    }
   },
   "source": [
    "print(list1[0])"
   ],
   "execution_count": 43,
   "outputs": [
    {
     "name": "stdout",
     "text": [
      "1\n"
     ],
     "output_type": "stream"
    }
   ]
  },
  {
   "cell_type": "markdown",
   "metadata": {
    "id": "JQ7Lk-zJxnH9"
   },
   "source": [
    "Как и ожидалось первый элемент равен 1. \\\\\n",
    "Если требуется узнать последний элемент, но длина списка неизвестна, то можно обратиться по индексу [-1] - он указывает на последний элемент в списке:\n"
   ]
  },
  {
   "cell_type": "code",
   "metadata": {
    "colab": {
     "base_uri": "https://localhost:8080/"
    },
    "id": "JiHTRl6E06R0",
    "outputId": "650fedc2-0daa-42ec-e0b0-b439a3490aef",
    "pycharm": {
     "is_executing": false
    }
   },
   "source": [
    "print(list1[-1],list1[-2])"
   ],
   "execution_count": 44,
   "outputs": [
    {
     "name": "stdout",
     "text": [
      "6 5\n"
     ],
     "output_type": "stream"
    }
   ]
  },
  {
   "cell_type": "markdown",
   "metadata": {
    "id": "lILKaxGc1K3v"
   },
   "source": [
    "Элементы списка можно менять:"
   ]
  },
  {
   "cell_type": "code",
   "metadata": {
    "colab": {
     "base_uri": "https://localhost:8080/"
    },
    "id": "oNKeaC5u1gn8",
    "outputId": "328f4bf4-b9bd-4c90-ccbe-0455d988fefa",
    "pycharm": {
     "is_executing": false
    }
   },
   "source": [
    "list1[0] = \"newElem\"\n",
    "print(list1)\n"
   ],
   "execution_count": 45,
   "outputs": [
    {
     "name": "stdout",
     "text": [
      "['newElem', 2, 3, 4, 5, 6]\n"
     ],
     "output_type": "stream"
    }
   ]
  },
  {
   "cell_type": "markdown",
   "metadata": {
    "id": "XRmWw1rS1s9P"
   },
   "source": [
    "Используя функцию **len()** можно узнать длину списка:"
   ]
  },
  {
   "cell_type": "code",
   "metadata": {
    "colab": {
     "base_uri": "https://localhost:8080/"
    },
    "id": "hLX4NTdq52m5",
    "outputId": "71b0de24-faaf-4be6-dc6f-e8afaa53220f",
    "pycharm": {
     "is_executing": false
    }
   },
   "source": [
    "listt = [1,2,3,4,5]\n",
    "print(len(listt))\n"
   ],
   "execution_count": 46,
   "outputs": [
    {
     "name": "stdout",
     "text": [
      "5\n"
     ],
     "output_type": "stream"
    }
   ]
  },
  {
   "cell_type": "markdown",
   "metadata": {
    "id": "MM-55rwH6gpF"
   },
   "source": [
    "Функция **sorted** сортирует элементы списка по возрастанию  и возвращает новый список:"
   ]
  },
  {
   "cell_type": "code",
   "metadata": {
    "colab": {
     "base_uri": "https://localhost:8080/"
    },
    "id": "gtavn_4d6vvJ",
    "outputId": "0632002e-ae0b-4e30-e2c3-567a46eb7c3e",
    "pycharm": {
     "is_executing": false
    }
   },
   "source": [
    "nonSorted = [7,1,0,4,6,5,2]\n",
    "Sorted = sorted(nonSorted)\n",
    "print(Sorted)\n"
   ],
   "execution_count": 47,
   "outputs": [
    {
     "name": "stdout",
     "text": [
      "[0, 1, 2, 4, 5, 6, 7]\n"
     ],
     "output_type": "stream"
    }
   ]
  },
  {
   "cell_type": "markdown",
   "metadata": {
    "id": "S3b42esejfI6"
   },
   "source": [
    "# **Кортежи(Tuples)** "
   ]
  },
  {
   "cell_type": "markdown",
   "metadata": {
    "id": "OkrZ-nDR8-u-"
   },
   "source": [
    "По своей структуре кортежи похожи на списки, но в отличие от них, кортежи - неизменяемы. \\\\\n",
    "Возникает вполне логичный вопрос - зачем нужны кортежи, если есть списки? \\\\\n",
    "Ответ довольно незамысловатый:\n",
    "* Защита от случайных изменений\n",
    "* При прочих равных, кортеж занимает меньше места"
   ]
  },
  {
   "cell_type": "code",
   "metadata": {
    "colab": {
     "base_uri": "https://localhost:8080/"
    },
    "id": "5SVNHo0KB8CC",
    "outputId": "42bf6591-0322-4dc9-9ace-6d3f59690bed",
    "pycharm": {
     "is_executing": false
    }
   },
   "source": [
    "testList = [1,2,3,4,5,6]\n",
    "testTuple = (1,2,3,4,5,6)\n",
    "print(testList.__sizeof__(),'\\n',testTuple.__sizeof__() )\n"
   ],
   "execution_count": 48,
   "outputs": [
    {
     "name": "stdout",
     "text": [
      "88 \n 72\n"
     ],
     "output_type": "stream"
    }
   ]
  },
  {
   "cell_type": "markdown",
   "metadata": {
    "id": "h93qhyhNCEVw"
   },
   "source": [
    "Кортеж создается аналогично спискам:"
   ]
  },
  {
   "cell_type": "code",
   "metadata": {
    "colab": {
     "base_uri": "https://localhost:8080/"
    },
    "id": "zVAM294HAdAt",
    "outputId": "34d546a2-a629-42cf-89d4-361d46cebcd4",
    "pycharm": {
     "is_executing": false
    }
   },
   "source": [
    "tuple1 = tuple(\"tuple\")\n",
    "tuple2 = ('a','b')\n",
    "tuple3 =('a',)\n",
    "notTuple = ('string')\n",
    "print(tuple1,tuple2,tuple3,notTuple)\n"
   ],
   "execution_count": 49,
   "outputs": [
    {
     "name": "stdout",
     "text": [
      "('t', 'u', 'p', 'l', 'e') ('a', 'b') ('a',) string\n"
     ],
     "output_type": "stream"
    }
   ]
  },
  {
   "cell_type": "markdown",
   "metadata": {
    "id": "-0eexOpuBXCa"
   },
   "source": [
    "**Важно:** \\\\\n",
    "Чтобы создать кортеж из одного элемента, необходимо после него поставить запятую *tuple3*, если этого не сделать, то получится обычная строка (*notTuple*). \\\\ \n",
    "Над кортежем определены все \"списковые\" операции, которые не будут изменять элементы кортежа.\n"
   ]
  },
  {
   "cell_type": "markdown",
   "metadata": {
    "id": "BgWrgLYBjkF0"
   },
   "source": [
    "# **Словари(Dictionaries)** \n",
    "Словарь это структура данных, которая хранит пары в виде: “‘ключ’: ‘значение’”."
   ]
  },
  {
   "cell_type": "code",
   "metadata": {
    "id": "VdVkqidvDt7x",
    "pycharm": {
     "is_executing": false
    }
   },
   "source": [
    "dictionary_sounds = {\n",
    "'dog': 'bark',\n",
    "'cat': 'meow',\n",
    "'cow': 'moo',\n",
    "'sheep': 'baa'}"
   ],
   "execution_count": 50,
   "outputs": []
  },
  {
   "cell_type": "markdown",
   "metadata": {
    "id": "yvwIl18bD9J6"
   },
   "source": [
    "Данный словарь использует название в виде ключей, с помощью которых можно получить доступ к значениям. Использование слов в качестве ключей упрощает поиск необходимых данных. Также код становится более читаемым. В словаре звуков, выбрав название ключа, мы получим для него значение звука."
   ]
  },
  {
   "cell_type": "code",
   "metadata": {
    "colab": {
     "base_uri": "https://localhost:8080/"
    },
    "id": "6_MpnAcyD-Xf",
    "outputId": "8a2bdc05-6a37-4cee-9dc7-29995e712b1a",
    "pycharm": {
     "is_executing": false
    }
   },
   "source": [
    "print (dictionary_sounds['cat'])"
   ],
   "execution_count": 51,
   "outputs": [
    {
     "name": "stdout",
     "text": [
      "meow\n"
     ],
     "output_type": "stream"
    }
   ]
  },
  {
   "cell_type": "markdown",
   "metadata": {
    "id": "v5UpkMdgEGlz"
   },
   "source": [
    "В качестве ключей можно также использовать и числа"
   ]
  },
  {
   "cell_type": "code",
   "metadata": {
    "colab": {
     "base_uri": "https://localhost:8080/"
    },
    "id": "5YNXp8qLEJVX",
    "outputId": "5dbd2d72-1101-485e-9347-15c31d71489d",
    "pycharm": {
     "is_executing": false
    }
   },
   "source": [
    "dictionary_house = {1: 'John Smith',\n",
    "2: 'Ivan Petrov',\n",
    "45: 'Leonard Ivanov'}\n",
    "print(dictionary_house[45])"
   ],
   "execution_count": 52,
   "outputs": [
    {
     "name": "stdout",
     "text": [
      "Leonard Ivanov\n"
     ],
     "output_type": "stream"
    }
   ]
  },
  {
   "cell_type": "markdown",
   "metadata": {
    "id": "_BdL9lWBETrD"
   },
   "source": [
    "Также в списках не обязательно нумеровать значения попорядку. Еще здесь можно хранить значения разных типов данных\n"
   ]
  },
  {
   "cell_type": "code",
   "metadata": {
    "colab": {
     "base_uri": "https://localhost:8080/"
    },
    "id": "0qMEjHrqEV87",
    "outputId": "048e7bd2-f92e-4224-f85e-272fdce3c142",
    "pycharm": {
     "is_executing": false
    }
   },
   "source": [
    "dictionary = {'region': 77,\n",
    "8080: 'Hello World'}\n",
    "print(dictionary['region'])"
   ],
   "execution_count": 53,
   "outputs": [
    {
     "name": "stdout",
     "text": [
      "77\n"
     ],
     "output_type": "stream"
    }
   ]
  }
 ]
}