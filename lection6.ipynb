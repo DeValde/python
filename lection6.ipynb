{
 "metadata": {
  "language_info": {
   "codemirror_mode": {
    "name": "ipython",
    "version": 3
   },
   "file_extension": ".py",
   "mimetype": "text/x-python",
   "name": "python",
   "nbconvert_exporter": "python",
   "pygments_lexer": "ipython3",
   "version": 3
  },
  "orig_nbformat": 2
 },
 "nbformat": 4,
 "nbformat_minor": 2,
 "cells": [
  {
   "source": [
    "# Объектно Ориентированное Программирование(ООП)"
   ],
   "cell_type": "markdown",
   "metadata": {}
  },
  {
   "source": [
    "В программирование редко встречаются маленькие задачи. В основном это объемные задачи: создание интернет магазина, создание программ для учебы, моделирование физических процессов, моделирование косимческих полетов и т.д. Воспринять всю задачу сходу и написать для неё программу практически невозможно."
   ],
   "cell_type": "markdown",
   "metadata": {}
  }
 ]
}