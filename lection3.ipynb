{
 "cells": [
  {
   "cell_type": "markdown",
   "source": [
    "# **Циклы**\n",
    "В жизни есть задачи, которые состоят из повторения одникавоых действий. Многократное повторение одинаковых действий это **цикл.**<br>\n",
    "**Примеры циклов:** Положить в суп 3 ложки соли, поднять гантели 10 раз, варить суп до кипения, идти пока не увидишь синий дом и т.д.<br>\n",
    "Каждая из этих задачек состоит из простых действий: положить ложку 1 соли, поднять гантели 1 раз, варить суп 1 секунду, сделать шаг.<br>\n",
    "Такие простые задачки из которых состят циклы называют **повторениями или иттерациями.**\n",
    "Откройте книгу рецептов, в рецепте супов "
   ],
   "metadata": {
    "collapsed": false
   }
  },
  {
   "cell_type": "markdown",
   "source": [
    "# **for** item **in** collection:\n",
    "Цикл for в Питоне перебирает объекты из набора значений. Допустим, у нас есть школьник Петя. У Пети есть приложение для прослушивания музыки. <br>\n",
    "Музыка в приложении хранятся как словарь, где названию песни соответсвует ее продолжительность в минутах. Нам посчитать сколько минут идёт плейлист Пети"
   ],
   "metadata": {
    "collapsed": false
   }
  },
  {
   "cell_type": "code",
   "execution_count": 29,
   "outputs": [
    {
     "name": "stdout",
     "text": [
      "18\n"
     ],
     "output_type": "stream"
    }
   ],
   "source": [
    "eLibary = {\n",
    "    'Symfony №5' : 5,\n",
    "    'Lose Yourself' : 3,\n",
    "    'We Will Rock You ' : 3,\n",
    "    'Country Roads' : 4,\n",
    "    'What a life' : 3\n",
    "}\n",
    "long_playlist = 0\n",
    "for song_name in eLibary:\n",
    "    long_playlist = long_playlist + eLibary[song_name]\n",
    "print(long_playlist)\n"
   ],
   "metadata": {
    "collapsed": false,
    "pycharm": {
     "name": "#%%\n",
     "is_executing": false
    }
   }
  },
  {
   "cell_type": "markdown",
   "source": [
    "В цикле мы прошлись по словарю, и складывали минуты для каждого названия песни.\n",
    "\n",
    "Еще бывают задачи, когда цикл идёт по счётчику. <br> го применяют, когда известно количество иттераций: начисление процентов на банковский вклад за 5 лет - цикл будет состоять из 5 действий, построение графика функции y = 5 * x, для x принадлежащего от [1;10] - 10 повторений и т.д.\n",
    "В питоне для пошагового цикла часто используют функцию **range(start, stop, step)**. Она создает последовательность чисел, где:\n",
    "<br> **start** - начальное значение (по умолчанию равен 0)\n",
    "<br> **stop** - конечное значение\n",
    "<br> **step** - шаг, на котором числа расположены друг от друга (по умолчанию равен 1)"
   ],
   "metadata": {
    "collapsed": false
   }
  },
  {
   "cell_type": "code",
   "execution_count": 30,
   "outputs": [
    {
     "name": "stdout",
     "text": [
      "1\n2\n3\n4\n5\n6\n7\n8\n9\n"
     ],
     "output_type": "stream"
    }
   ],
   "source": [
    "for i in range (1, 10 , 1):\n",
    "    print(i)\n",
    "    "
   ],
   "metadata": {
    "collapsed": false,
    "pycharm": {
     "name": "#%%\n",
     "is_executing": false
    }
   }
  },
  {
   "cell_type": "markdown",
   "source": [
    "Здесь мы создали последовательность [1;10) , с шагом 1\n",
    "Обратите внимание, что последнее число не выводится.\n",
    "\n",
    "Можно задать последовательность только для четных чисел:"
   ],
   "metadata": {
    "collapsed": false
   }
  },
  {
   "cell_type": "code",
   "execution_count": 31,
   "outputs": [
    {
     "name": "stdout",
     "text": [
      "0\n2\n4\n6\n8\n"
     ],
     "output_type": "stream"
    }
   ],
   "source": [
    "for i in range (0, 10 , 2):\n",
    "    print(i)\n",
    "    "
   ],
   "metadata": {
    "collapsed": false,
    "pycharm": {
     "name": "#%%\n",
     "is_executing": false
    }
   }
  },
  {
   "cell_type": "markdown",
   "source": [
    "Здесь мы создали последовательность [0;10) , с шагом 2\n",
    "Обратите внимание, что последнее число снова не выводится.\n",
    "\n",
    "Можно задать короткую запись:"
   ],
   "metadata": {
    "collapsed": false
   }
  },
  {
   "cell_type": "code",
   "execution_count": 32,
   "outputs": [
    {
     "name": "stdout",
     "text": [
      "0\n1\n2\n3\n4\n5\n6\n7\n8\n9\n"
     ],
     "output_type": "stream"
    }
   ],
   "source": [
    "for i in range (10):\n",
    "    print(i)"
   ],
   "metadata": {
    "collapsed": false,
    "pycharm": {
     "name": "#%%\n",
     "is_executing": false
    }
   }
  },
  {
   "cell_type": "markdown",
   "source": [
    "По умолчанию start = 0, step = 1, а мы указали только 1 параметр функции. В этом случае компьютер присвает значение stop.<br>\n",
    "Поэтому здесь мы создали последовательность [0;10) , с шагом 1.\n",
    "\n",
    "Обратите внимание, что последнее число снова не выводится"
   ],
   "metadata": {
    "collapsed": false
   }
  },
  {
   "cell_type": "markdown",
   "source": [
    "Вот еще пример, где указаны значения start и stop.\n",
    "Вася положили 10 000 рублей в банк на 5 лет. И каждый год ему начисляют 7% годовых на вклад. Какая сумма в итоге получится?"
   ],
   "metadata": {
    "collapsed": false
   }
  },
  {
   "cell_type": "code",
   "execution_count": 33,
   "outputs": [
    {
     "name": "stdout",
     "text": [
      "0\n1\n2\n3\n4\n14025.517307000002\n"
     ],
     "output_type": "stream"
    }
   ],
   "source": [
    "deposit = 10000\n",
    "for year in range(0, 5):\n",
    "    print( year)\n",
    "    deposit = deposit * 1.07\n",
    "print(deposit)"
   ],
   "metadata": {
    "collapsed": false,
    "pycharm": {
     "name": "#%%\n",
     "is_executing": false
    }
   }
  },
  {
   "cell_type": "markdown",
   "source": [
    "# **while:**\n",
    "Цикл **while** или **цикл с предусловием** выполняет цикл до достижения опрделённого условия. Например: бежать до финиша, греть воду до кипячения, держать вклад на счёте пока сумма не достигнет 15000 рублей и т.д."
   ],
   "metadata": {
    "collapsed": false
   }
  },
  {
   "cell_type": "code",
   "execution_count": 34,
   "outputs": [
    {
     "name": "stdout",
     "text": [
      "circle =  1\ncircle =  2\ncircle =  3\ncircle =  4\ncircle =  5\n"
     ],
     "output_type": "stream"
    }
   ],
   "source": [
    "circle = 0\n",
    "while (circle <5):\n",
    "    circle = circle + 1\n",
    "    print('circle = ', circle)"
   ],
   "metadata": {
    "collapsed": false,
    "pycharm": {
     "name": "#%%\n",
     "is_executing": false
    }
   }
  },
  {
   "cell_type": "code",
   "execution_count": 35,
   "outputs": [
    {
     "name": "stdout",
     "text": [
      "temperature =  30\ntemperature =  40\ntemperature =  50\ntemperature =  60\ntemperature =  70\ntemperature =  80\ntemperature =  90\ntemperature =  100\n"
     ],
     "output_type": "stream"
    }
   ],
   "source": [
    "temperature = 20\n",
    "while(temperature < 100):\n",
    "    temperature = temperature + 10\n",
    "    print ('temperature = ', temperature)"
   ],
   "metadata": {
    "collapsed": false,
    "pycharm": {
     "name": "#%%\n",
     "is_executing": false
    }
   }
  },
  {
   "cell_type": "code",
   "execution_count": 36,
   "outputs": [
    {
     "name": "stdout",
     "text": [
      "deposit =  11000.0\ndeposit =  12100.000000000002\ndeposit =  13310.000000000004\ndeposit =  14641.000000000005\ndeposit =  16105.100000000008\n"
     ],
     "output_type": "stream"
    }
   ],
   "source": [
    "deposit = 10000\n",
    "while(deposit < 15000):\n",
    "    deposit = deposit * 1.1\n",
    "    print('deposit = ', deposit)"
   ],
   "metadata": {
    "collapsed": false,
    "pycharm": {
     "name": "#%%\n",
     "is_executing": false
    }
   }
  },
  {
   "cell_type": "markdown",
   "source": [
    "# **Бесконечный цикл**\n",
    "Если в цикле сделать условие, кторое всегда является верным(1 > 0), то цикл никогда не закончится. Будьте аккуратны с условиями!"
   ],
   "metadata": {
    "collapsed": false
   }
  },
  {
   "cell_type": "code",
   "execution_count": 37,
   "outputs": [],
   "source": [
    "##while(1 > 0):\n",
    "    "
   ],
   "metadata": {
    "collapsed": false,
    "pycharm": {
     "name": "#%%\n",
     "is_executing": false
    }
   }
  },
  {
   "cell_type": "markdown",
   "source": [
    "# **continue**\n",
    "**continue** используют, когда надо пропустить одно из повторений цикла, но цикл при этом не заканчивается. Допустим Петя хочет увидеть из своего плейлиста только классические песни. Тогда при выводе названий песен мы будем выводить только те, где жанр классический. Если жанр не классика, то иттерацию надо пропускать.\n"
   ],
   "metadata": {
    "collapsed": false,
    "pycharm": {
     "name": "#%% md\n"
    }
   }
  },
  {
   "cell_type": "code",
   "execution_count": 38,
   "outputs": [
    {
     "name": "stdout",
     "text": [
      "Symfony №5",
      "\nWe Will Rock You \nCountry Roads\n"
     ],
     "output_type": "stream"
    }
   ],
   "source": [
    "eLibary = {\n",
    "    'Symfony №5' : 'classic',\n",
    "    'Lose Yourself' : 'hip hop',\n",
    "    'We Will Rock You ' : 'classic',\n",
    "    'Country Roads' : 'classic',\n",
    "    'What a life' : 'hip hop'\n",
    "}\n",
    "for song_name in eLibary:\n",
    "    if(eLibary[song_name] != 'classic'):\n",
    "        continue\n",
    "    print(song_name)"
   ],
   "metadata": {
    "collapsed": false,
    "pycharm": {
     "name": "#%%\n",
     "is_executing": false
    }
   }
  },
  {
   "cell_type": "markdown",
   "source": [
    "# **break**\n",
    "**break** используют для досрочного выхода из цикла. Например мы хотим вскяпитить воду, но если надо кипятить для зеленого чая, то кипячение должно закончится при 85 градусах."
   ],
   "metadata": {
    "collapsed": false
   }
  },
  {
   "cell_type": "code",
   "execution_count": 39,
   "outputs": [
    {
     "name": "stdout",
     "text": [
      "85\n"
     ],
     "output_type": "stream"
    }
   ],
   "source": [
    "green_tea = True\n",
    "temperature = 30\n",
    "while(temperature < 100):\n",
    "    temperature = temperature + 5\n",
    "    if((green_tea == True) and (temperature == 85)):\n",
    "        break\n",
    "print(temperature)"
   ],
   "metadata": {
    "collapsed": false,
    "pycharm": {
     "name": "#%%\n",
     "is_executing": false
    }
   }
  },
  {
   "cell_type": "markdown",
   "source": [
    "Здесь программа выполняет цикл, пока значение температуры не достигнет 100, но если мы выбрали зеленый чай, то мы выйдем из цикла при температуре равной 85"
   ],
   "metadata": {
    "collapsed": false,
    "pycharm": {
     "name": "#%% md\n"
    }
   }
  },
  {
   "cell_type": "markdown",
   "source": [
    "# **else**\n",
    "В циклах **for** и **while** ключевое слово **else** проверяет каким способом произошел выход из цикла:\n",
    "<br>естественным способом, цикл просто закончился\n",
    "<br>Цикл прервался с помощью ключевого слова **break**<br>\n",
    "Найдем и выведем первую хип хоп песню в плейлистах\n"
   ],
   "metadata": {
    "collapsed": false,
    "pycharm": {
     "name": "#%% md\n"
    }
   }
  },
  {
   "cell_type": "code",
   "execution_count": 40,
   "outputs": [
    {
     "name": "stdout",
     "text": [
      "Lose Yourself\nNot found hip hop songs!\n"
     ],
     "output_type": "stream"
    }
   ],
   "source": [
    "eLibary1 = {\n",
    "    'Symfony №5' : 'classic',\n",
    "    'Lose Yourself' : 'hip hop',\n",
    "    'We Will Rock You ' : 'classic',\n",
    "    'Country Roads' : 'classic',\n",
    "    'What a life' : 'hip hop'\n",
    "}\n",
    "\n",
    "eLibary2 = {\n",
    "    'Symfony №5' : 'classic',\n",
    "    'We Will Rock You ' : 'classic',\n",
    "    'Country Roads' : 'classic',\n",
    "    'Hotel California' : 'classic'\n",
    "}\n",
    "for song_name in eLibary1:\n",
    "    if(eLibary1[song_name] == 'hip hop'):\n",
    "        print(song_name)\n",
    "        break\n",
    "else:\n",
    "    print('Not found hip hop songs!')\n",
    "    \n",
    "for song_name in eLibary2:\n",
    "    if(eLibary2[song_name] == 'hip hop'):\n",
    "        print(song_name)\n",
    "        break\n",
    "else:\n",
    "    print('Not found hip hop songs!')"
   ],
   "metadata": {
    "collapsed": false,
    "pycharm": {
     "name": "#%%\n",
     "is_executing": false
    }
   }
  },
  {
   "cell_type": "markdown",
   "source": [
    "Для первого плейлиста цикл закончился с помощью **break**, так как условие выполнилось и ключевое слово **else** не потребовалось.<br>\n",
    "Во втором плейлисте, выход из цикла сработал естесвенным способом, поэтому произошли действия после ключевого слова **else**."
   ],
   "metadata": {
    "collapsed": false
   }
  }
 ],
 "metadata": {
  "kernelspec": {
   "display_name": "Python 3",
   "language": "python",
   "name": "python3"
  },
  "language_info": {
   "codemirror_mode": {
    "name": "ipython",
    "version": 2
   },
   "file_extension": ".py",
   "mimetype": "text/x-python",
   "name": "python",
   "nbconvert_exporter": "python",
   "pygments_lexer": "ipython2",
   "version": "2.7.6"
  },
  "pycharm": {
   "stem_cell": {
    "cell_type": "raw",
    "source": [],
    "metadata": {
     "collapsed": false
    }
   }
  }
 },
 "nbformat": 4,
 "nbformat_minor": 0
}