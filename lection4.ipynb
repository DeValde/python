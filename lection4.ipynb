{
 "cells": [
  {
   "cell_type": "markdown",
   "source": [
    "\n",
    "# **Функции**\n",
    "Функция в математике это соответствие между элементами из двух множеств y(x) = 5 * x. \n",
    "Здесь нам говорят что каждому y соответствует значение 5 * x, ля выбранного x, например: y(2) = 10.<br>\n",
    "Но функции встречаются не только в математике. Приходя в магазин мы можем встретить консультанта. Он выполняет функцию по подбору подходящих товаров. Мы задаём параметры, по которым хотим выбрать товар, а консультант в соответствие с нашими параметрами выдаёт нам подходящие товары.<br>\n",
    "Функция бывает и у текстов. В зависимости от того, какой результат должен принести текст, мы выбираем разные стили написания. Текст должен донести какую-то мысль - выбираем информационный стиль, текст должен принести удовольствие от чтения - выбираем художественный стиль и так далее.<br>\n",
    "Функции могут быть у предметов: Солнце выполняет функцию освещения, холодильник - функцию хранения еды и т.д.<br>\n",
    "В общем, **функция** это выполнения последовательности действий, для получения результата."
   ],
   "metadata": {
    "collapsed": false
   }
  },
  {
   "cell_type": "markdown",
   "source": [
    "В программировании функция представляет из себя кусочек кода, который можно многократно вызывать одной командой.\n",
    "Это позволяет сократить количество строк кода и сделать его более лёгким для чтения. \n",
    "Как правило у функций \"говорящие\" имена, например функция встроенная sorted() позволяет сортировать массивы данных.\n",
    "Так как не надо каждый раз писать код сортировки данных, то программисту не надо вникать, что делает программа.\n",
    "Ему достаточно увидеть комнаду sorted() и он понимает, что здесь сортируются данные. \n",
    "Плюс код сортировки не надо писать каждый раз, а можно его вызвать одной строчкой."
   ],
   "metadata": {
    "collapsed": false
   }
  },
  {
   "cell_type": "markdown",
   "source": [
    "# Объявление и вызов функции функции\n",
    "Функция объявляется с помощью ключевого слова **def**, за которым следует имя функции и скобки с аргументами функции.\n",
    " Функция может не содержать аргументов.<br>\n",
    " Для примера напишем функцию, которая приветсвует пользователя:"
   ],
   "metadata": {
    "collapsed": false,
    "pycharm": {
     "name": "#%% md\n"
    }
   }
  },
  {
   "cell_type": "code",
   "execution_count": 13,
   "outputs": [],
   "source": [
    "def welcome_user():\n",
    "    print('Hello, user!')"
   ],
   "metadata": {
    "collapsed": false,
    "pycharm": {
     "name": "#%%\n",
     "is_executing": false
    }
   }
  },
  {
   "cell_type": "markdown",
   "source": [
    "\n",
    "Вызывается функция написанием её имени и указанием параметров в скобках. Если параметров у функции нет, то ставятся пустые скобки."
   ],
   "metadata": {
    "collapsed": false
   }
  },
  {
   "cell_type": "code",
   "execution_count": 14,
   "outputs": [
    {
     "name": "stdout",
     "text": [
      "Hello, user!\n"
     ],
     "output_type": "stream"
    }
   ],
   "source": [
    "welcome_user()"
   ],
   "metadata": {
    "collapsed": false,
    "pycharm": {
     "name": "#%%\n",
     "is_executing": false
    }
   }
  },
  {
   "cell_type": "markdown",
   "source": [
    "Вверху был пример функции без аргументов. Давайте немного усложним задачу. Сделаем, чтобы функция приветсвовала пользователья по имени.\n",
    " Как при запуске компьютера или в социальных сетях."
   ],
   "metadata": {
    "collapsed": false,
    "pycharm": {
     "name": "#%% md\n"
    }
   }
  },
  {
   "cell_type": "code",
   "execution_count": 15,
   "outputs": [
    {
     "name": "stdout",
     "text": [
      "Hello,  John !\nHello,  Petr !\nHello,  Anna !\n"
     ],
     "output_type": "stream"
    }
   ],
   "source": [
    "def welcome_user(user_name):\n",
    "    print('Hello, ', user_name, '!')\n",
    "welcome_user('John')\n",
    "welcome_user('Petr')\n",
    "welcome_user('Anna')"
   ],
   "metadata": {
    "collapsed": false,
    "pycharm": {
     "name": "#%%\n",
     "is_executing": false
    }
   }
  },
  {
   "cell_type": "markdown",
   "source": [
    "Как мы видим теперь у нас получилась функция зависящая от аргументов. В зависимости от того, какое имя передано, она здоровается по разному.\n",
    "А что делать если к нам на сайт или в компьютер зайдут гости? Люди у которых нет аккаунтов и система не увидит их имени. Чтобы не возникало ошибок, а иногда для удобства, можно присвоить значение по умолчанию.\n"
   ],
   "metadata": {
    "collapsed": false
   }
  },
  {
   "cell_type": "code",
   "execution_count": 16,
   "outputs": [
    {
     "name": "stdout",
     "text": [
      "Hello,  John !\nHello,  Guest !\nHello,  Petr !\nHello,  Anna !\n"
     ],
     "output_type": "stream"
    }
   ],
   "source": [
    "def welcome_user(user_name = 'Guest'):\n",
    "    print('Hello, ', user_name, '!')\n",
    "welcome_user('John')\n",
    "welcome_user()\n",
    "welcome_user('Petr')\n",
    "welcome_user('Anna')"
   ],
   "metadata": {
    "collapsed": false,
    "pycharm": {
     "name": "#%%\n",
     "is_executing": false
    }
   }
  },
  {
   "cell_type": "markdown",
   "source": [
    "Теперь если функция, не получит аргумента, то она вместо ошибки использует значение по умолчанию. Соответсвенно:<br>\n",
    "Аргументы без значений по умолчанию - **обязательные**. без них функция вызвать нельзя.\n",
    " Они должны быть обязательно переданы.<br>\n",
    "Аргументы со значением по умолчанию - **необязательные**. без них функцию можно вызвать.\n",
    " Тогда такие аргументы функции примут значения по умолчанию."
   ],
   "metadata": {
    "collapsed": false
   }
  },
  {
   "cell_type": "markdown",
   "source": [
    "\n",
    "Питон это язык с динамической типизацией. И иногда можно по ошибке передать не тот тип данных. \n",
    "Обработка неправильного типа данных может приводить к колоссальным последствиям. Так например в 1998 году, во время миссии Mars Climate Orbiter произошло крушение спутника.\n",
    "Это было связано с тем что Lockheed Martin использовал британскую систему мер, а NASA - метрическую.<br>\n",
    "Поэтому в программировании есть **аннотация типов.** Она позволяет указать какого типа должна быть переменная. \n",
    "Но есть важный момент, IDE ам только сообщит, что мы передаём не тот тип данных и на этом всё. Интерпретатор считывает аннтоцию типов, но никак её не обрабатывает. \n",
    "То есть программа всё равно выполнится."
   ],
   "metadata": {
    "collapsed": false
   }
  },
  {
   "cell_type": "code",
   "execution_count": 20,
   "outputs": [
    {
     "name": "stdout",
     "text": [
      "Hello,  John !\nHello,  123 !\nHello,  Anna !\n"
     ],
     "output_type": "stream"
    }
   ],
   "source": [
    "def welcome_user(user_name : str):\n",
    "    print('Hello, ', user_name, '!')\n",
    "welcome_user('John')\n",
    "welcome_user(123)\n",
    "welcome_user('Anna')\n",
    "\n"
   ],
   "metadata": {
    "collapsed": false,
    "pycharm": {
     "name": "#%%\n",
     "is_executing": false
    }
   }
  }
 ],
 "metadata": {
  "kernelspec": {
   "display_name": "Python 3",
   "language": "python",
   "name": "python3"
  },
  "language_info": {
   "codemirror_mode": {
    "name": "ipython",
    "version": 2
   },
   "file_extension": ".py",
   "mimetype": "text/x-python",
   "name": "python",
   "nbconvert_exporter": "python",
   "pygments_lexer": "ipython2",
   "version": "2.7.6"
  },
  "pycharm": {
   "stem_cell": {
    "cell_type": "raw",
    "source": [],
    "metadata": {
     "collapsed": false
    }
   }
  }
 },
 "nbformat": 4,
 "nbformat_minor": 0
}