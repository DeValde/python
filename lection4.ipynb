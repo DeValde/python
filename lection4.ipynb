{
 "cells": [
  {
   "cell_type": "markdown",
   "source": [
    "\n",
    "# **Функции**\n",
    "Функция в математике это соответствие между элементами из двух множеств y(x) = 5 * x. \n",
    "Здесь нам говорят что каждому y соответствует значение 5 * x, ля выбранного x, например: y(2) = 10.<br>\n",
    "Но функции встречаются не только в математике. Приходя в магазин мы можем встретить консультанта. Он выполняет функцию по подбору подходящих товаров. Мы задаём параметры, по которым хотим выбрать товар, а консультант в соответствие с нашими параметрами выдаёт нам подходящие товары.<br>\n",
    "Функция бывает и у текстов. В зависимости от того, какой результат должен принести текст, мы выбираем разные стили написания. Текст должен донести какую-то мысль - выбираем информационный стиль, текст должен принести удовольствие от чтения - выбираем художественный стиль и так далее.<br>\n",
    "Функции могут быть у предметов: Солнце выполняет функцию освещения, холодильник - функцию хранения еды и т.д.<br>\n",
    "В общем, **функция** это выполнения последовательности действий, для получения результата."
   ],
   "metadata": {
    "collapsed": false
   }
  },
  {
   "cell_type": "markdown",
   "source": [
    "В программировании функция представляет из себя кусочек кода, который можно многократно вызывать одной командой.\n",
    "Это позволяет сократить количество строк кода и сделать его более лёгким для чтения. \n",
    "Как правило у функций \"говорящие\" имена, например функция встроенная sorted() позволяет сортировать массивы данных.\n",
    "Так как не надо каждый раз писать код сортировки данных, то программисту не надо вникать, что делает программа.\n",
    "Ему достаточно увидеть комнаду sorted() и он понимает, что здесь сортируются данные. \n",
    "Плюс код сортировки не надо писать каждый раз, а можно его вызвать одной строчкой."
   ],
   "metadata": {
    "collapsed": false
   }
  },
  {
   "cell_type": "markdown",
   "source": [
    "# Объявление и вызов функции функции\n",
    "Функция объявляется с помощью ключевого слова **def**, за которым следует имя функции и скобки с аргументами функции.\n",
    " Функция может не содержать аргументов.<br>\n",
    " Для примера напишем функцию, которая приветсвует пользователя:"
   ],
   "metadata": {
    "collapsed": false,
    "pycharm": {
     "name": "#%% md\n"
    }
   }
  },
  {
   "cell_type": "code",
   "execution_count": 12,
   "outputs": [],
   "source": [
    "def welcome_user():\n",
    "    print('Hello, user!')"
   ],
   "metadata": {
    "collapsed": false,
    "pycharm": {
     "name": "#%%\n",
     "is_executing": false
    }
   }
  },
  {
   "cell_type": "markdown",
   "source": [
    "\n",
    "Вызывается функция написанием её имени и указанием параметров в скобках. Если параметров у функции нет, то ставятся пустые скобки.\n",
    "<br>Обратите внимания, что функция должна быть описана, до её вывода!"
   ],
   "metadata": {
    "collapsed": false
   }
  },
  {
   "cell_type": "code",
   "execution_count": 13,
   "outputs": [
    {
     "name": "stdout",
     "text": [
      "Hello, user!\n"
     ],
     "output_type": "stream"
    }
   ],
   "source": [
    "welcome_user()"
   ],
   "metadata": {
    "collapsed": false,
    "pycharm": {
     "name": "#%%\n",
     "is_executing": false
    }
   }
  },
  {
   "cell_type": "markdown",
   "source": [
    "# Аргументы функции\n",
    "В прошлом примере у нас была функция без аргументов. Давайте немного усложним задачу. Сделаем так, чтобы функция приветсвовала пользователья по имени.\n",
    " Как при запуске компьютера или в социальных сетях."
   ],
   "metadata": {
    "collapsed": false,
    "pycharm": {
     "name": "#%% md\n"
    }
   }
  },
  {
   "cell_type": "code",
   "execution_count": 14,
   "outputs": [
    {
     "name": "stdout",
     "text": [
      "Hello,  John !\nHello,  Petr !\nHello,  Anna !\n"
     ],
     "output_type": "stream"
    }
   ],
   "source": [
    "def welcome_user(user_name):\n",
    "    print('Hello, ', user_name, '!')\n",
    "welcome_user('John')\n",
    "welcome_user('Petr')\n",
    "welcome_user('Anna')"
   ],
   "metadata": {
    "collapsed": false,
    "pycharm": {
     "name": "#%%\n",
     "is_executing": false
    }
   }
  },
  {
   "cell_type": "markdown",
   "source": [
    "Как мы видим теперь у нас получилась функция зависящая от аргументов. В зависимости от того, какое имя передано, она здоровается по разному.\n",
    "А что делать если к нам на сайт или в компьютер зайдут гости? Люди у которых нет аккаунтов и система не увидит их имени. Чтобы не возникало ошибок, а иногда для удобства, можно присвоить значение по умолчанию.\n"
   ],
   "metadata": {
    "collapsed": false
   }
  },
  {
   "cell_type": "code",
   "execution_count": 15,
   "outputs": [
    {
     "name": "stdout",
     "text": [
      "Hello,  John !\nHello,  Guest !\nHello,  Petr !\nHello,  Anna !\n"
     ],
     "output_type": "stream"
    }
   ],
   "source": [
    "def welcome_user(user_name = 'Guest'):\n",
    "    print('Hello, ', user_name, '!')\n",
    "welcome_user('John')\n",
    "welcome_user()\n",
    "welcome_user('Petr')\n",
    "welcome_user('Anna')"
   ],
   "metadata": {
    "collapsed": false,
    "pycharm": {
     "name": "#%%\n",
     "is_executing": false
    }
   }
  },
  {
   "cell_type": "markdown",
   "source": [
    "Теперь если функция, не получит аргумента, то она вместо ошибки использует значение по умолчанию. Соответсвенно:<br>\n",
    "Аргументы без значений по умолчанию - **обязательные**. без них функция вызвать нельзя.\n",
    " Они должны быть обязательно переданы.<br>\n",
    "Аргументы со значением по умолчанию - **необязательные**. без них функцию можно вызвать.\n",
    " Тогда такие аргументы функции примут значения по умолчанию."
   ],
   "metadata": {
    "collapsed": false
   }
  },
  {
   "cell_type": "markdown",
   "source": [
    "\n",
    "Питон это язык с динамической типизацией. И иногда можно по ошибке передать не тот тип данных. \n",
    "Обработка неправильного типа данных может приводить к колоссальным последствиям. Так например в 1998 году, во время миссии Mars Climate Orbiter произошло крушение спутника.\n",
    "Это было связано с тем что Lockheed Martin использовал британскую систему мер, а NASA - метрическую.<br>\n",
    "Поэтому в программировании есть **аннотация типов.** Она позволяет указать какого типа должна быть переменная. \n",
    "Но есть важный момент, IDE ам только сообщит, что мы передаём не тот тип данных и на этом всё. Интерпретатор считывает аннтоцию типов, но никак её не обрабатывает. \n",
    "То есть программа всё равно выполнится."
   ],
   "metadata": {
    "collapsed": false
   }
  },
  {
   "cell_type": "code",
   "execution_count": 16,
   "outputs": [
    {
     "name": "stdout",
     "text": [
      "Hello, ",
      " John !\nHello,  123 !\nHello,  Anna !\n"
     ],
     "output_type": "stream"
    }
   ],
   "source": [
    "def welcome_user(user_name : str):\n",
    "    print('Hello, ', user_name, '!')\n",
    "welcome_user('John')\n",
    "welcome_user(123)\n",
    "welcome_user('Anna')"
   ],
   "metadata": {
    "collapsed": false,
    "pycharm": {
     "name": "#%%\n",
     "is_executing": false
    }
   }
  },
  {
   "cell_type": "markdown",
   "source": [
    "# return\n",
    "До текущего момента мы рассматривали функции, которые не возвращают никаких значений. Она просто выводила текст.<br>\n",
    "Но есть задачи, которые требует обработки данных, помимо вывода текста. Например посчитать площадь круга."
   ],
   "metadata": {
    "collapsed": false,
    "pycharm": {
     "name": "#%% md\n"
    }
   }
  },
  {
   "cell_type": "code",
   "execution_count": 17,
   "outputs": [
    {
     "name": "stdout",
     "text": [
      "78.5\n28.259999999999998\n"
     ],
     "output_type": "stream"
    }
   ],
   "source": [
    "def square_circle(r:float) -> float:\n",
    "    return 3.14 * r * r\n",
    "radius1 = 5.0\n",
    "radius2 = 3.0\n",
    "square1 = square_circle(radius1)\n",
    "print(square1)\n",
    "print(square_circle(radius2))"
   ],
   "metadata": {
    "collapsed": false,
    "pycharm": {
     "name": "#%%\n",
     "is_executing": false
    }
   }
  },
  {
   "cell_type": "markdown",
   "source": [
    "\n",
    "В этом примере мы написали функцию, которая принимает и возвращает значения типа **float.**\n",
    "Возвращаемое значение функцию стоит после слова **return**.\n",
    "Теперь функция возвращает значени. Поэтому мы можем либо сохранить его в переменную, как square1,\n",
    "либо передать значение в функцию print(), для вывода."
   ],
   "metadata": {
    "collapsed": false
   }
  },
  {
   "cell_type": "markdown",
   "source": [
    "\n",
    "Но функция как мы уже говорили это набор действий. Она может состоять больше чем из одного действия и включать в себя другие функции.\n",
    "Под переменной или вычислениями, у нас подразумевается какое-то значение. Поэтому после слова **return** могут идти вычисления, как в примере выше, переменные или сразу значения.\n",
    "Например напишем программу, которая считает количество корней у квадратного уравнения. На вход она будет получать коэффециэнты квадртаного уравнения."
   ],
   "metadata": {
    "collapsed": false
   }
  },
  {
   "cell_type": "code",
   "execution_count": 18,
   "outputs": [
    {
     "name": "stdout",
     "text": [
      "Number of square roots =  0\nNumber of square roots =  2\nNumber of square roots =  1\n"
     ],
     "output_type": "stream"
    }
   ],
   "source": [
    "def discriminant_full(a: float, b:float, c:float) -> float:\n",
    "    discriminant = b * b - 4 * a * c\n",
    "    return discriminant\n",
    "    \n",
    "def counter_square_root(a: float, b:float, c:float) -> int:\n",
    "    d = discriminant_full(a, b, c)\n",
    "    if(d > 0):\n",
    "        return 2\n",
    "    elif(d == 0):\n",
    "        return 1\n",
    "    elif(d < 0):\n",
    "        return 0\n",
    "print('Number of square roots = ', counter_square_root(1, 1, 1))\n",
    "print('Number of square roots = ', counter_square_root(1, 10, 1))\n",
    "print('Number of square roots = ', counter_square_root(4, 4, 1))"
   ],
   "metadata": {
    "collapsed": false,
    "pycharm": {
     "name": "#%%\n",
     "is_executing": false
    }
   }
  },
  {
   "cell_type": "markdown",
   "source": [
    " Здесь мы сначала написали функцию вычисления дискриминанта. Она получает на вход коэффециэнты квадратного.\n",
    " Записывает их в переменную и затем возвращает её.<br>\n",
    " После этого у нас идёт сама функция подсёта корней квадратного уравнения. Внутри мы вызываем функцию для вычисления дискриминанта.\n",
    " После этого смотрим какой знак у дискриминанта и возвращаем число корней."
   ],
   "metadata": {
    "collapsed": false
   }
  },
  {
   "cell_type": "markdown",
   "source": [
    "# Рекурсия\n",
    "Отдельно стоит выделить рекурсию. Это когда функция вызывает сама себя. Вы могли с ней столкнуться, во время демонстрации экрана при видеозвонке. \n",
    "Когда пользователь включает демнострацию экрана и открывает окно с предпросмотром, то этот предпросмотр начинает многократно показывать сам себя.<br>\n",
    "Или же во время обычного звонка. Звук из динамиков выходит попадает в микрофон, динамик воспроизводит этот звук, микрофон снова его улавливает и передаёт в динамик.<br>\n",
    "В программировании один из примеров рекурсии, это вычисление чисел Фибоначчи. Последовательность Фибоначчи это ряд чисел в ктором каждый элемент является суммой двух предыдущих: 1 1 2 3 5 ...<br>\n",
    "Эти числа используются в трейдинге на бирже, в золотом сечении и др."
   ],
   "metadata": {
    "collapsed": false
   }
  },
  {
   "cell_type": "code",
   "execution_count": 19,
   "outputs": [
    {
     "name": "stdout",
     "text": [
      "2\n"
     ],
     "output_type": "stream"
    }
   ],
   "source": [
    "def fibonacci_element_n(n):\n",
    "    element_n = 1\n",
    "    if n > 2:\n",
    "        element_n = fibonacci_element_n(n-1) + fibonacci_element_n(n-2)\n",
    "    return element_n\n",
    "print(fibonacci_element_n(3))"
   ],
   "metadata": {
    "collapsed": false,
    "pycharm": {
     "name": "#%%\n",
     "is_executing": false
    }
   }
  }
 ],
 "metadata": {
  "kernelspec": {
   "display_name": "Python 3",
   "language": "python",
   "name": "python3"
  },
  "language_info": {
   "codemirror_mode": {
    "name": "ipython",
    "version": 2
   },
   "file_extension": ".py",
   "mimetype": "text/x-python",
   "name": "python",
   "nbconvert_exporter": "python",
   "pygments_lexer": "ipython2",
   "version": "2.7.6"
  },
  "pycharm": {
   "stem_cell": {
    "cell_type": "raw",
    "source": [],
    "metadata": {
     "collapsed": false
    }
   }
  }
 },
 "nbformat": 4,
 "nbformat_minor": 0
}
