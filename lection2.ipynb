{
 "cells": [
  {
   "cell_type": "markdown",
   "source": [
    "# Условная инструкция if-elif-else. Логические операторы.\n"
   ],
   "metadata": {
    "collapsed": false
   }
  },
  {
   "cell_type": "markdown",
   "source": [
    "Условная конструкция if-elif-else - основной инструмент выбора в Python(В других ЯП в частности).\n",
    "Проще говоря, она выбирает, какое действие следует выполнить, в зависимости от значения переменных в момент проверки условия."
   ],
   "metadata": {
    "collapsed": false
   }
  },
  {
   "cell_type": "markdown",
   "source": [
    "## Синтаксис:\n",
    "Сначала записываем ключевая команда **if**, затем пишем условие и ставим двоеточие. Делаем отступ(если среда не сделала за нас) и пишем инструкции.\n",
    "Как мы ранее обсуждали в Python нет \"блочных операторов\" т.е. фигурных скобок, \"begin/end\" и тд.\n",
    "Здесь эту роль играют отступы.\n",
    "\n",
    "Части elif и else не являются обязательными.\n",
    "\n",
    "Рассмотрим пример: В школе хотят сделать систему определяющую сдал ли ученик тест (от 0 до 5). Оценка больше 3х - сдал, меньше - не сдал.\n"
   ],
   "metadata": {
    "collapsed": false
   }
  },
  {
   "cell_type": "code",
   "execution_count": 1,
   "outputs": [
    {
     "name": "stdout",
     "output_type": "stream",
     "text": [
      "Тест не сдан!\n"
     ]
    }
   ],
   "source": [
    "mark = int(input())\n",
    "if mark > 2:      # если оценка больше 2 то:\n",
    "    print(\"Тест сдан!\") # тест сдан\n",
    "else: print(\"Тест не сдан!\") # иначе тест не сдан"
   ],
   "metadata": {
    "collapsed": false,
    "pycharm": {
     "name": "#%%\n"
    }
   }
  },
  {
   "cell_type": "markdown",
   "source": [
    "Отлично, но что если нам не обойтись одним условием? Например, мы хотим вывод оценки в текстовом виде.\n",
    "\n",
    "\n",
    "Модернизируем нашу программу:"
   ],
   "metadata": {
    "collapsed": false,
    "pycharm": {
     "name": "#%% md\n"
    }
   }
  },
  {
   "cell_type": "code",
   "execution_count": 2,
   "outputs": [
    {
     "name": "stdout",
     "output_type": "stream",
     "text": [
      "Неудовлетворительно: 2\n"
     ]
    }
   ],
   "source": [
    "mark = int(input())\n",
    "if mark == 2: # Если оценка 2 то:\n",
    "    print(\"Неудовлетворительно:\", mark)\n",
    "elif mark == 3 : # Если оценка 3, то :\n",
    "    print(\"Удовлетворительно:\",mark)\n",
    "elif mark == 4:\n",
    "    print(\"Хорошо\",mark)\n",
    "elif mark == 5:\n",
    "    print(\"Отлично\",mark)\n",
    "else: print(\"Некорректная оценка\")"
   ],
   "metadata": {
    "collapsed": false,
    "pycharm": {
     "name": "#%%\n"
    }
   }
  },
  {
   "cell_type": "markdown",
   "source": [
    "Конструкция оказалась довольно громоздкой, но конструкцию if-elif-else мы использовали на максимум.\n",
    "\n",
    "Однако встаёт вопрос: если, скажем, нам нужно несколько условий, то неужели нужно для каждого писать такую конструкцию?\n",
    "\n",
    "Нет, для этих целей есть логические операторы:"
   ],
   "metadata": {
    "collapsed": false,
    "pycharm": {
     "name": "#%% md\n"
    }
   }
  },
  {
   "cell_type": "markdown",
   "source": [
    "## Логические операторы\n",
    "Скажем мы хотим узнать является ли число\n",
    "-  кратным 5 **и** 3\n",
    "-  кратным 5 *или* 3\n",
    "\n",
    "Решить эту задачу компактно и быстро помогут логические операторы *and и or*.\n"
   ],
   "metadata": {
    "collapsed": false,
    "pycharm": {
     "name": "#%% md\n",
     "is_executing": true
    }
   }
  },
  {
   "cell_type": "code",
   "execution_count": 3,
   "outputs": [
    {
     "name": "stdout",
     "output_type": "stream",
     "text": [
      "не кратно 5 и 3\n"
     ]
    }
   ],
   "source": [
    "num = int(input())\n",
    "\n",
    "if num % 5 == 0 and num % 3 == 0 : # оператор and требует истинности всех условий которые он связывает.\n",
    "    print(\"кратно 5 и 3\")\n",
    "else: print(\"не кратно 5 и 3\")"
   ],
   "metadata": {
    "collapsed": false,
    "pycharm": {
     "name": "#%%\n"
    }
   }
  },
  {
   "cell_type": "code",
   "execution_count": 4,
   "outputs": [
    {
     "name": "stdout",
     "output_type": "stream",
     "text": [
      "не кратно 5 и 3\n"
     ]
    }
   ],
   "source": [
    "if num % 5 == 0 or num % 3 == 0: # оператор or требует истинности хотя бы одного из условий\n",
    "    print(\"число кратно 5 или 3\")\n",
    "else: print(\"не кратно 5 и 3\")"
   ],
   "metadata": {
    "collapsed": false,
    "pycharm": {
     "name": "#%%\n"
    }
   }
  },
  {
   "cell_type": "markdown",
   "source": [
    "Теперь посмотрим, как будет выглядеть решение этой же задачи, (случая 1), без использования логических операторов."
   ],
   "metadata": {
    "collapsed": false,
    "pycharm": {
     "name": "#%% md\n"
    }
   }
  },
  {
   "cell_type": "code",
   "execution_count": 1,
   "outputs": [
    {
     "ename": "NameError",
     "evalue": "name 'num' is not defined",
     "output_type": "error",
     "traceback": [
      "\u001B[1;31m---------------------------------------------------------------------------\u001B[0m",
      "\u001B[1;31mNameError\u001B[0m                                 Traceback (most recent call last)",
      "\u001B[1;32m<ipython-input-1-5549b307283e>\u001B[0m in \u001B[0;36m<module>\u001B[1;34m\u001B[0m\n\u001B[1;32m----> 1\u001B[1;33m \u001B[1;32mif\u001B[0m \u001B[0mnum\u001B[0m \u001B[1;33m%\u001B[0m \u001B[1;36m5\u001B[0m \u001B[1;33m==\u001B[0m \u001B[1;36m0\u001B[0m\u001B[1;33m:\u001B[0m\u001B[1;33m\u001B[0m\u001B[1;33m\u001B[0m\u001B[0m\n\u001B[0m\u001B[0;32m      2\u001B[0m     \u001B[1;32mif\u001B[0m \u001B[0mnum\u001B[0m \u001B[1;33m%\u001B[0m \u001B[1;36m3\u001B[0m \u001B[1;33m==\u001B[0m \u001B[1;36m0\u001B[0m \u001B[1;33m:\u001B[0m\u001B[1;33m\u001B[0m\u001B[1;33m\u001B[0m\u001B[0m\n\u001B[0;32m      3\u001B[0m          \u001B[0mprint\u001B[0m\u001B[1;33m(\u001B[0m\u001B[1;34m\"кратно 5 и 3\"\u001B[0m\u001B[1;33m)\u001B[0m\u001B[1;33m\u001B[0m\u001B[1;33m\u001B[0m\u001B[0m\n\u001B[0;32m      4\u001B[0m \u001B[1;33m\u001B[0m\u001B[0m\n\u001B[0;32m      5\u001B[0m \u001B[1;33m\u001B[0m\u001B[0m\n",
      "\u001B[1;31mNameError\u001B[0m: name 'num' is not defined"
     ]
    }
   ],
   "source": [
    "if num % 5 == 0:\n",
    "    if num % 3 == 0 :\n",
    "         print(\"кратно 5 и 3\")\n"
   ],
   "metadata": {
    "collapsed": false,
    "pycharm": {
     "name": "#%%\n"
    }
   }
  },
  {
   "cell_type": "markdown",
   "source": [
    "#### Логическое умножение"
   ],
   "metadata": {
    "collapsed": false,
    "pycharm": {
     "name": "#%% md\n"
    }
   },
   "outputs": [
    {
     "ename": "SyntaxError",
     "evalue": "invalid syntax (<ipython-input-17-651c0ee3c595>, line 1)",
     "output_type": "error",
     "traceback": [
      "\u001B[1;36m  File \u001B[1;32m\"<ipython-input-17-651c0ee3c595>\"\u001B[1;36m, line \u001B[1;32m1\u001B[0m\n\u001B[1;33m    Логическое умножение\u001B[0m\n\u001B[1;37m               ^\u001B[0m\n\u001B[1;31mSyntaxError\u001B[0m\u001B[1;31m:\u001B[0m invalid syntax\n"
     ]
    }
   ],
   "execution_count": 17
  },
  {
   "cell_type": "code",
   "execution_count": 18,
   "outputs": [
    {
     "data": {
      "text/plain": "<pandas.io.formats.style.Styler at 0x20d36c6b5e0>",
      "text/html": "<style  type=\"text/css\" >\n</style><table id=\"T_6f74c_\" ><thead>    <tr>        <th class=\"col_heading level0 col0\" >A</th>        <th class=\"col_heading level0 col1\" >B</th>        <th class=\"col_heading level0 col2\" >A ^ B</th>    </tr></thead><tbody>\n                <tr>\n                                <td id=\"T_6f74c_row0_col0\" class=\"data row0 col0\" >0</td>\n                        <td id=\"T_6f74c_row0_col1\" class=\"data row0 col1\" >0</td>\n                        <td id=\"T_6f74c_row0_col2\" class=\"data row0 col2\" >0</td>\n            </tr>\n            <tr>\n                                <td id=\"T_6f74c_row1_col0\" class=\"data row1 col0\" >0</td>\n                        <td id=\"T_6f74c_row1_col1\" class=\"data row1 col1\" >1</td>\n                        <td id=\"T_6f74c_row1_col2\" class=\"data row1 col2\" >0</td>\n            </tr>\n            <tr>\n                                <td id=\"T_6f74c_row2_col0\" class=\"data row2 col0\" >1</td>\n                        <td id=\"T_6f74c_row2_col1\" class=\"data row2 col1\" >0</td>\n                        <td id=\"T_6f74c_row2_col2\" class=\"data row2 col2\" >0</td>\n            </tr>\n            <tr>\n                                <td id=\"T_6f74c_row3_col0\" class=\"data row3 col0\" >1</td>\n                        <td id=\"T_6f74c_row3_col1\" class=\"data row3 col1\" >1</td>\n                        <td id=\"T_6f74c_row3_col2\" class=\"data row3 col2\" >1</td>\n            </tr>\n    </tbody></table>"
     },
     "execution_count": 18,
     "metadata": {},
     "output_type": "execute_result"
    }
   ],
   "source": [
    "import pandas as pd\n",
    "data = {\"A\":[0,0,1,1],\"B\":[0,1,0,1],\"A ^ B\": [0,0,0,1]}\n",
    "df = pd.DataFrame(data,columns=[\"A\",\"B\",\"A ^ B\"])\n",
    "df.style.hide_index()"
   ],
   "metadata": {
    "collapsed": false,
    "pycharm": {
     "name": "#%%\n"
    }
   }
  },
  {
   "cell_type": "markdown",
   "source": [
    "#### Логическое сложение"
   ],
   "metadata": {
    "collapsed": false
   }
  },
  {
   "cell_type": "code",
   "execution_count": 19,
   "outputs": [
    {
     "data": {
      "text/plain": "<pandas.io.formats.style.Styler at 0x20d35d40df0>",
      "text/html": "<style  type=\"text/css\" >\n</style><table id=\"T_2a5a3_\" ><thead>    <tr>        <th class=\"col_heading level0 col0\" >A</th>        <th class=\"col_heading level0 col1\" >B</th>        <th class=\"col_heading level0 col2\" >A v B</th>    </tr></thead><tbody>\n                <tr>\n                                <td id=\"T_2a5a3_row0_col0\" class=\"data row0 col0\" >0</td>\n                        <td id=\"T_2a5a3_row0_col1\" class=\"data row0 col1\" >0</td>\n                        <td id=\"T_2a5a3_row0_col2\" class=\"data row0 col2\" >0</td>\n            </tr>\n            <tr>\n                                <td id=\"T_2a5a3_row1_col0\" class=\"data row1 col0\" >0</td>\n                        <td id=\"T_2a5a3_row1_col1\" class=\"data row1 col1\" >1</td>\n                        <td id=\"T_2a5a3_row1_col2\" class=\"data row1 col2\" >1</td>\n            </tr>\n            <tr>\n                                <td id=\"T_2a5a3_row2_col0\" class=\"data row2 col0\" >1</td>\n                        <td id=\"T_2a5a3_row2_col1\" class=\"data row2 col1\" >0</td>\n                        <td id=\"T_2a5a3_row2_col2\" class=\"data row2 col2\" >1</td>\n            </tr>\n            <tr>\n                                <td id=\"T_2a5a3_row3_col0\" class=\"data row3 col0\" >1</td>\n                        <td id=\"T_2a5a3_row3_col1\" class=\"data row3 col1\" >1</td>\n                        <td id=\"T_2a5a3_row3_col2\" class=\"data row3 col2\" >1</td>\n            </tr>\n    </tbody></table>"
     },
     "execution_count": 19,
     "metadata": {},
     "output_type": "execute_result"
    }
   ],
   "source": [
    "data = {\"A\":[0,0,1,1],\"B\":[0,1,0,1],\"A v B\": [0,1,1,1]}\n",
    "df = pd.DataFrame(data,columns=[\"A\",\"B\",\"A v B\"])\n",
    "df.style.hide_index()"
   ],
   "metadata": {
    "collapsed": false,
    "pycharm": {
     "name": "#%%\n"
    }
   }
  },
  {
   "cell_type": "markdown",
   "source": [
    "#### Отрицание\n",
    "\n"
   ],
   "metadata": {
    "collapsed": false
   }
  },
  {
   "cell_type": "code",
   "execution_count": 20,
   "outputs": [
    {
     "data": {
      "text/plain": "<pandas.io.formats.style.Styler at 0x20d35d40460>",
      "text/html": "<style  type=\"text/css\" >\n</style><table id=\"T_49d0d_\" ><thead>    <tr>        <th class=\"col_heading level0 col0\" >A</th>        <th class=\"col_heading level0 col1\" >not A</th>    </tr></thead><tbody>\n                <tr>\n                                <td id=\"T_49d0d_row0_col0\" class=\"data row0 col0\" >0</td>\n                        <td id=\"T_49d0d_row0_col1\" class=\"data row0 col1\" >1</td>\n            </tr>\n            <tr>\n                                <td id=\"T_49d0d_row1_col0\" class=\"data row1 col0\" >1</td>\n                        <td id=\"T_49d0d_row1_col1\" class=\"data row1 col1\" >0</td>\n            </tr>\n    </tbody></table>"
     },
     "execution_count": 20,
     "metadata": {},
     "output_type": "execute_result"
    }
   ],
   "source": [
    "data = {\"A\":[0,1],\"not A\": [1,0]}\n",
    "df = pd.DataFrame(data,columns=[\"A\",\"not A\"])\n",
    "df.style.hide_index()"
   ],
   "metadata": {
    "collapsed": false,
    "pycharm": {
     "name": "#%%\n"
    }
   }
  }
 ],
 "metadata": {
  "kernelspec": {
   "display_name": "Python 3",
   "language": "python",
   "name": "python3"
  },
  "language_info": {
   "codemirror_mode": {
    "name": "ipython",
    "version": 2
   },
   "file_extension": ".py",
   "mimetype": "text/x-python",
   "name": "python",
   "nbconvert_exporter": "python",
   "pygments_lexer": "ipython2",
   "version": "2.7.6"
  }
 },
 "nbformat": 4,
 "nbformat_minor": 0
}