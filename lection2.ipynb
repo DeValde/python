{
 "cells": [
  {
   "cell_type": "code",
   "execution_count": null,
   "metadata": {
    "collapsed": true
   },
   "outputs": [],
   "source": []
  },
  {
   "cell_type": "markdown",
   "source": [
    "# Условная инструкция if-elif-else. Проверка истинности.\n"
   ],
   "metadata": {
    "collapsed": false
   }
  },
  {
   "cell_type": "markdown",
   "source": [
    "Условная конструкция if-elif-else - основной инструмент выбора в Python(В других ЯП в частности).\n",
    "Проще говоря, она выбирает, какое действие следует выполнить, в зависимости от значения переменных в момент проверки условия."
   ],
   "metadata": {
    "collapsed": false
   }
  },
  {
   "cell_type": "markdown",
   "source": [
    "## Синтаксис:\n",
    "Сначала записываем ключевая команда **if**, затем пишем условие и ставим двоеточие. Делаем отступ(если среда не сделала за нас) и пишем инструкции.\n",
    "Как мы ранее обсуждали в Python нет \"блочных операторов\" т.е. фигурных скобок, \"begin/end\" и тд.\n",
    "Здесь эту роль играют отступы.\n",
    "\n",
    "Части elif и else не являются обязательными. Последняя \n",
    "\n",
    "Рассмотрим пример: В школе хотят сделать систему определяющую сдал ли ученик тест (от 0 до 5). Оценка больше 3х - сдал, меньше - не сдал.\n"
   ],
   "metadata": {
    "collapsed": false
   }
  },
  {
   "cell_type": "code",
   "execution_count": null,
   "outputs": [],
   "source": [
    "mark = int(input())\n",
    "if mark > 2:\n",
    "    print(\"Тест сдан!\")\n",
    "else: print(\"Тест не сдан!\")"
   ],
   "metadata": {
    "collapsed": false,
    "pycharm": {
     "name": "#%%\n"
    }
   }
  }
 ],
 "metadata": {
  "kernelspec": {
   "display_name": "Python 3",
   "language": "python",
   "name": "python3"
  },
  "language_info": {
   "codemirror_mode": {
    "name": "ipython",
    "version": 2
   },
   "file_extension": ".py",
   "mimetype": "text/x-python",
   "name": "python",
   "nbconvert_exporter": "python",
   "pygments_lexer": "ipython2",
   "version": "2.7.6"
  }
 },
 "nbformat": 4,
 "nbformat_minor": 0
}