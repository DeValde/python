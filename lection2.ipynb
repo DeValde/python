{
 "cells": [
  {
   "cell_type": "markdown",
   "source": [
    "# Условная инструкция if-elif-else. Логические операторы.\n"
   ],
   "metadata": {
    "collapsed": false
   }
  },
  {
   "cell_type": "markdown",
   "source": [
    "Условная конструкция if-elif-else - основной инструмент выбора в Python(В других ЯП в частности).\n",
    "Проще говоря, она выбирает, какое действие следует выполнить, в зависимости от значения переменных в момент проверки условия."
   ],
   "metadata": {
    "collapsed": false
   }
  },
  {
   "cell_type": "markdown",
   "source": [
    "## Синтаксис:\n",
    "Сначала записываем ключевая команда **if**, затем пишем условие и ставим двоеточие. Делаем отступ(если среда не сделала за нас) и пишем инструкции.\n",
    "Как мы ранее обсуждали в Python нет \"блочных операторов\" т.е. фигурных скобок, \"begin/end\" и тд.\n",
    "Здесь эту роль играют отступы.\n",
    "\n",
    "Части elif и else не являются обязательными.\n",
    "\n",
    "Рассмотрим пример: В школе хотят сделать систему определяющую сдал ли ученик тест (от 0 до 5). Оценка больше 3х - сдал, меньше - не сдал.\n"
   ],
   "metadata": {
    "collapsed": false
   }
  },
  {
   "cell_type": "code",
   "execution_count": null,
   "outputs": [],
   "source": [
    "mark = int(input())\n",
    "if mark > 2:      # если оценка больше 2 то:\n",
    "    print(\"Тест сдан!\") # тест сдан\n",
    "else: print(\"Тест не сдан!\") # иначе тест не сдан"
   ],
   "metadata": {
    "collapsed": false,
    "pycharm": {
     "name": "#%%\n",
     "is_executing": true
    }
   }
  },
  {
   "cell_type": "markdown",
   "source": [
    "Отлично, но что если нам не обойтись одним условием? Например, мы хотим вывод оценки в текстовом виде.\n",
    "\n",
    "\n",
    "Модернизируем нашу программу:"
   ],
   "metadata": {
    "collapsed": false,
    "pycharm": {
     "name": "#%% md\n"
    }
   }
  },
  {
   "cell_type": "code",
   "execution_count": null,
   "outputs": [],
   "source": [
    "mark = int(input())\n",
    "if mark == 2: # Если оценка 2 то:\n",
    "    print(\"Неудовлетворительно:\", mark)\n",
    "elif mark == 3 : # Если оценка 3, то :\n",
    "    print(\"Удовлетворительно:\",mark)\n",
    "elif mark == 4:\n",
    "    print(\"Хорошо\",mark)\n",
    "elif mark == 5:\n",
    "    print(\"Отлично\",mark)\n",
    "else: print(\"Некорректная оценка\")"
   ],
   "metadata": {
    "collapsed": false,
    "pycharm": {
     "name": "#%%\n",
     "is_executing": true
    }
   }
  },
  {
   "cell_type": "markdown",
   "source": [
    "Конструкция оказалась довольно громоздкой, но конструкцию if-elif-else мы использовали на максимум.\n",
    "\n",
    "Однако встаёт вопрос: если, скажем, нам нужно несколько условий, то неужели нужно для каждого писать такую конструкцию?\n",
    "\n",
    "Нет, для этих целей есть логические операторы:"
   ],
   "metadata": {
    "collapsed": false,
    "pycharm": {
     "name": "#%% md\n"
    }
   }
  },
  {
   "cell_type": "markdown",
   "source": [
    "## Логические операторы\n",
    "Скажем мы хотим узнать является ли число\n",
    "-  кратным 5 **и** 3\n",
    "-  кратным 5 *или* 3\n",
    "\n",
    "Решить эту задачу компактно и быстро помогут логические операторы *and и or*.\n"
   ],
   "metadata": {
    "collapsed": false,
    "pycharm": {
     "name": "#%% md\n",
     "is_executing": true
    }
   }
  },
  {
   "cell_type": "code",
   "execution_count": null,
   "outputs": [],
   "source": [
    "num = int(input())\n",
    "\n",
    "if num % 5 == 0 and num % 3 == 0 : # оператор and требует истинности всех условий которые он связывает.\n",
    "    print(\"кратно 5 и 3\")\n",
    "else: print(\"не кратно 5 и 3\")"
   ],
   "metadata": {
    "collapsed": false,
    "pycharm": {
     "name": "#%%\n",
     "is_executing": true
    }
   }
  },
  {
   "cell_type": "code",
   "execution_count": null,
   "outputs": [],
   "source": [
    "if num % 5 == 0 or num % 3 == 0: # оператор or требует истинности хотя бы одного из условий\n",
    "    print(\"число кратно 5 или 3\")\n",
    "else: print(\"не кратно 5 и 3\")"
   ],
   "metadata": {
    "collapsed": false,
    "pycharm": {
     "name": "#%%\n",
     "is_executing": true
    }
   }
  },
  {
   "cell_type": "markdown",
   "source": [
    "Теперь посмотрим, как будет выглядеть решение этой же задачи, (случая 1), без использования логических операторов."
   ],
   "metadata": {
    "collapsed": false,
    "pycharm": {
     "name": "#%% md\n"
    }
   }
  },
  {
   "cell_type": "code",
   "execution_count": null,
   "outputs": [],
   "source": [
    "if num % 5 == 0:\n",
    "    if num % 3 == 0 :\n",
    "         print(\"кратно 5 и 3\")\n",
    "\n"
   ],
   "metadata": {
    "collapsed": false,
    "pycharm": {
     "name": "#%%\n"
    }
   }
  }
 ],
 "metadata": {
  "kernelspec": {
   "display_name": "Python 3",
   "language": "python",
   "name": "python3"
  },
  "language_info": {
   "codemirror_mode": {
    "name": "ipython",
    "version": 2
   },
   "file_extension": ".py",
   "mimetype": "text/x-python",
   "name": "python",
   "nbconvert_exporter": "python",
   "pygments_lexer": "ipython2",
   "version": "2.7.6"
  }
 },
 "nbformat": 4,
 "nbformat_minor": 0
}