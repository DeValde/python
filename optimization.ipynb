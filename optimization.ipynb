{
 "cells": [
  {
   "cell_type": "code",
   "execution_count": 8,
   "metadata": {
    "collapsed": true
   },
   "outputs": [],
   "source": [
    "import numpy as np\n",
    "import pandas as pd\n",
    "from scipy import optimize\n",
    "from matplotlib import pylab as plt\n",
    "%matplotlib inline\n",
    "import math as m\n",
    "def value(x):\n",
    "    return(m.sin(x / 5) * m.exp(x / 10) + 5 * m.exp(-x / 2))"
   ]
  },
  {
   "cell_type": "code",
   "source": [
    "a = np.arange(1,31,0.1)\n",
    "b = np.array([value(xi) for xi in a])\n",
    "c = optimize.minimize(value,2,method=\"BFGS\")\n",
    "h= optimize.minimize(value,30,method=\"BFGS\")\n",
    "h"
   ],
   "metadata": {
    "collapsed": false,
    "pycharm": {
     "name": "#%%\n"
    }
   },
   "execution_count": 9,
   "outputs": [
    {
     "data": {
      "text/plain": "      fun: -11.898894665981313\n hess_inv: array([[1.67936744]])\n      jac: array([0.])\n  message: 'Optimization terminated successfully.'\n     nfev: 14\n      nit: 6\n     njev: 7\n   status: 0\n  success: True\n        x: array([25.88019321])"
     },
     "execution_count": 9,
     "metadata": {},
     "output_type": "execute_result"
    }
   ]
  },
  {
   "cell_type": "code",
   "execution_count": 10,
   "outputs": [
    {
     "data": {
      "text/plain": "<Figure size 432x288 with 1 Axes>",
      "image/png": "[encoded data removed]"
     },
     "metadata": {
      "needs_background": "light"
     },
     "output_type": "display_data"
    },
    {
     "data": {
      "text/plain": "float"
     },
     "execution_count": 10,
     "metadata": {},
     "output_type": "execute_result"
    }
   ],
   "source": [
    "d = float(c.fun)\n",
    "n = float(h.fun)\n",
    "plt.plot(a,b)\n",
    "plt.plot(2,d,'ro',color = 'red')\n",
    "plt.plot(c.x,d,'ro',color = 'red')\n",
    "plt.plot(30,n,'ro',color = 'green')\n",
    "plt.plot(h.x,n,'ro',color = 'green')\n",
    "plt.show()\n",
    "type (d)\n",
    "\n"
   ],
   "metadata": {
    "collapsed": false,
    "pycharm": {
     "name": "#%%\n"
    }
   }
  },
  {
   "cell_type": "markdown",
   "source": [
    "## Second task\n",
    "optimization using differential evolution"
   ],
   "metadata": {
    "collapsed": false,
    "pycharm": {
     "name": "#%% md\n"
    }
   }
  },
  {
   "cell_type": "code",
   "execution_count": 11,
   "outputs": [
    {
     "data": {
      "text/plain": "     fun: -11.898894665981322\n     jac: array([0.])\n message: 'Optimization terminated successfully.'\n    nfev: 96\n     nit: 5\n success: True\n       x: array([25.880193])"
     },
     "execution_count": 11,
     "metadata": {},
     "output_type": "execute_result"
    }
   ],
   "source": [
    "bounds = [(1,30)]\n",
    "dif = optimize.differential_evolution(value,bounds)\n",
    "dif"
   ],
   "metadata": {
    "collapsed": false,
    "pycharm": {
     "name": "#%%\n"
    }
   }
  },
  {
   "cell_type": "markdown",
   "source": [
    "## Third task\n",
    "Негладкая функция"
   ],
   "metadata": {
    "collapsed": false,
    "pycharm": {
     "name": "#%% md\n",
     "is_executing": true
    }
   }
  },
  {
   "cell_type": "code",
   "execution_count": 12,
   "outputs": [
    {
     "data": {
      "text/plain": "<Figure size 432x288 with 1 Axes>",
      "image/png": "[encoded data removed]"
     },
     "metadata": {
      "needs_background": "light"
     },
     "output_type": "display_data"
    },
    {
     "data": {
      "text/plain": "      fun: -5\n hess_inv: array([[1]])\n      jac: array([0.])\n  message: 'Optimization terminated successfully.'\n     nfev: 2\n      nit: 0\n     njev: 1\n   status: 0\n  success: True\n        x: array([30.])"
     },
     "execution_count": 12,
     "metadata": {},
     "output_type": "execute_result"
    }
   ],
   "source": [
    "def valInt(p):\n",
    "    return int(value(p))\n",
    "xnew = np.arange(1,31,0.1)\n",
    "ynew = ([valInt(xi) for xi in xnew])\n",
    "plt.plot(xnew,ynew)\n",
    "plt.show()\n",
    "B = optimize.minimize(valInt,30,method=\"BFGS\")\n",
    "bounds = [(1,30)]\n",
    "diff = optimize.differential_evolution(valInt,bounds)\n",
    "B"
   ],
   "metadata": {
    "collapsed": false,
    "pycharm": {
     "name": "#%%\n"
    }
   }
  },
  {
   "cell_type": "code",
   "execution_count": 13,
   "outputs": [
    {
     "data": {
      "text/plain": "     fun: -11.0\n message: 'Optimization terminated successfully.'\n    nfev: 62\n     nit: 3\n success: True\n       x: array([25.60398687])"
     },
     "execution_count": 13,
     "metadata": {},
     "output_type": "execute_result"
    }
   ],
   "source": [
    "diff"
   ],
   "metadata": {
    "collapsed": false,
    "pycharm": {
     "name": "#%%\n"
    }
   }
  },
  {
   "cell_type": "code",
   "execution_count": 19,
   "outputs": [
    {
     "data": {
      "text/plain": "1.6666666666666667"
     },
     "execution_count": 19,
     "metadata": {},
     "output_type": "execute_result"
    }
   ],
   "source": [],
   "metadata": {
    "collapsed": false,
    "pycharm": {
     "name": "#%%\n"
    }
   }
  }
 ],
 "metadata": {
  "kernelspec": {
   "display_name": "Python 3",
   "language": "python",
   "name": "python3"
  },
  "language_info": {
   "codemirror_mode": {
    "name": "ipython",
    "version": 2
   },
   "file_extension": ".py",
   "mimetype": "text/x-python",
   "name": "python",
   "nbconvert_exporter": "python",
   "pygments_lexer": "ipython2",
   "version": "2.7.6"
  }
 },
 "nbformat": 4,
 "nbformat_minor": 0
}