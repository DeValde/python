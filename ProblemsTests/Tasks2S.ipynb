{
 "cells": [
  {
   "cell_type": "markdown",
   "metadata": {
    "collapsed": true,
    "pycharm": {
     "name": "#%% md\n"
    }
   },
   "source": [
    "#Задания по ветвлению\n",
    "\n"
   ]
  },
  {
   "cell_type": "markdown",
   "source": [
    "Задача №1:\n",
    "Написать программу, проверяющую, делится ли заданное число на 5 и 7 без остатка. Если число делится без остатка только на 5 - вывести fizz, если только на 7 - вывести buzz, если делится на 7 и 5 вывести fizzbuzz, иначе вывести число поступившее на ввод. Ответ записать в переменную answ.\n"
   ],
   "metadata": {
    "collapsed": false,
    "pycharm": {
     "name": "#%% md\n"
    }
   }
  },
  {
   "cell_type": "code",
   "execution_count": 1,
   "outputs": [],
   "source": [
    "#Possible solution\n",
    "def minifizzbuzz(num):\n",
    "    if num%5 == 0 and num % 7 == 0:\n",
    "        return \"fizzbuzz\"\n",
    "    elif num % 5 == 0:\n",
    "        return 'fizz'\n",
    "    elif num % 7 == 0:\n",
    "        return 'buzz'\n",
    "\n",
    "    else:return num"
   ],
   "metadata": {
    "collapsed": false,
    "pycharm": {
     "name": "#%%\n"
    }
   }
  },
  {
   "cell_type": "markdown",
   "source": [
    "Задача №2:\n",
    "Владу нужно узнать значения функции $y = x -0.5$ по заданному x. Функция задаётся следующим образом: $y = x-0.5, x >0 \\\\ y=0,x=0 \\\\ y = |x|,x<0 $ Пример работы программы: $x = 1, y =0.5 \\\\ x = -5, y = 5$ Напоминание: модуль числа - $abs(x)$\n",
    "\n",
    "\n",
    "##Solution p.26\n"
   ],
   "metadata": {
    "collapsed": false,
    "pycharm": {
     "name": "#%% md\n"
    }
   }
  },
  {
   "cell_type": "markdown",
   "source": [
    "Задача№3:\n",
    "По введённым сторонам треугольника определить, существует ли такой треугольник. Треугольник существует, если сумма двух любых сторон не меньше третей. Пример:\n",
    "\n",
    "$a=4,b=7,c = 13$- не существует, так как c > a+b\n",
    "Ответ *True*  или *False* запишите в answ"
   ],
   "metadata": {
    "collapsed": false
   }
  },
  {
   "cell_type": "code",
   "execution_count": 2,
   "outputs": [],
   "source": [
    "def exist(a,b,c):\n",
    "    if a+b >= c and c+a >=b and c+b >= a:\n",
    "        answ = True\n",
    "    else:answ = False\n",
    "    return answ\n",
    "\n"
   ],
   "metadata": {
    "collapsed": false,
    "pycharm": {
     "name": "#%%\n"
    }
   }
  },
  {
   "cell_type": "markdown",
   "source": [
    "Задача №4: средняя\n",
    "В зависимости от того, что выберет пользователь вычислить площадь треугольника, прямоугольнка или круга. Программа узнает нужную фигуру, затем запрашивает длины сторон или радиус. Напоминание:\n",
    "\n",
    "\n",
    "Площадь треугольника можно вычислить по трем сторонам по формуле Герона: $S=\\sqrt{(p(p-a)(p-b)(p-c))}$, где $p$ - полупериметр.\n",
    "Площадь круга вычисляется по формуле $S=\\pi * r^2$, прямоугольника по формуле $S=ab$."
   ],
   "metadata": {
    "collapsed": false,
    "pycharm": {
     "name": "#%% md\n"
    }
   }
  },
  {
   "cell_type": "code",
   "execution_count": 3,
   "outputs": [],
   "source": [
    "import math\n",
    "\n",
    "def area(figure):\n",
    "    if figure == '1':\n",
    "        print('enter triangle sides')\n",
    "        a=int(input())\n",
    "        b=int(input())\n",
    "        c=int(input())\n",
    "        p = (a+b+c)/2\n",
    "        return math.sqrt(p*(p-a)*(p-b)*(p-c))\n",
    "    elif figure == '2':\n",
    "        print(\"enter rectangle sides\")\n",
    "        a=int(input())\n",
    "        b=int(input())\n",
    "        return a*b\n",
    "    elif figure == '3':\n",
    "        print(\"enter circle radius\")\n",
    "        r = int(input())\n",
    "        return 3 * r^2\n",
    "    else: raise Exception(\"undefined figure\")"
   ],
   "metadata": {
    "collapsed": false,
    "pycharm": {
     "name": "#%%\n"
    }
   }
  },
  {
   "cell_type": "markdown",
   "source": [
    "Вычислить корни квадратного уравнения по заданным коэффициентам.\n",
    "\n",
    "Квадратное уравнение имеет вид $ax^2+ bx + c = 0.$\n",
    "При его решении сначала вычисляют дискриминант по формуле $D = b^2\n",
    " - 4ac.$\n",
    "Если $D > 0$, то квадратное уравнение имеет два корня; если $D = 0$, то 1 корень; и если $D < 0$, то\n",
    "делают вывод, что корней нет."
   ],
   "metadata": {
    "collapsed": false,
    "pycharm": {
     "name": "#%% md\n"
    }
   }
  },
  {
   "cell_type": "code",
   "execution_count": 4,
   "outputs": [],
   "source": [
    "def sqEqu():\n",
    "    print(\"enter coefs\")\n",
    "    a = float(input())\n",
    "    b=float(input())\n",
    "    c=float(input())\n",
    "    D = b^2-4*a*c\n",
    "    if D < 0:\n",
    "        raise Exception(\"D<0\")\n",
    "    elif D == 0:\n",
    "        return (-b+math.sqrt(D))/2/a\n",
    "    else: return (((-b+math.sqrt(D))/2/a),((-b-math.sqrt(D))/2/a))\n",
    "\n"
   ],
   "metadata": {
    "collapsed": false,
    "pycharm": {
     "name": "#%%\n"
    }
   }
  }
 ],
 "metadata": {
  "kernelspec": {
   "display_name": "Python 3",
   "language": "python",
   "name": "python3"
  },
  "language_info": {
   "codemirror_mode": {
    "name": "ipython",
    "version": 2
   },
   "file_extension": ".py",
   "mimetype": "text/x-python",
   "name": "python",
   "nbconvert_exporter": "python",
   "pygments_lexer": "ipython2",
   "version": "2.7.6"
  }
 },
 "nbformat": 4,
 "nbformat_minor": 0
}