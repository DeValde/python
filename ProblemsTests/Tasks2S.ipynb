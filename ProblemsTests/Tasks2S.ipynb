{
 "cells": [
  {
   "cell_type": "markdown",
   "metadata": {
    "collapsed": true,
    "pycharm": {
     "name": "#%% md\n"
    }
   },
   "source": [
    "#Задания по ветвлению\n",
    "\n"
   ]
  },
  {
   "cell_type": "markdown",
   "source": [
    "Задача №1:\n",
    "Написать программу, проверяющую, делится ли заданное число на 5 и 7 без остатка. Если число делится без остатка только на 5 - вывести fizz, если только на 7 - вывести buzz, если делится на 7 и 5 вывести fizzbuzz, иначе вывести число поступившее на ввод. Ответ записать в переменную answ.\n"
   ],
   "metadata": {
    "collapsed": false,
    "pycharm": {
     "name": "#%% md\n"
    }
   }
  },
  {
   "cell_type": "code",
   "execution_count": 10,
   "outputs": [],
   "source": [
    "#Possible solution\n",
    "def minifizzbuzz(num):\n",
    "    if num%5 == 0 and num % 7 == 0:\n",
    "        return \"fizzbuzz\"\n",
    "    elif num % 5 == 0:\n",
    "        return 'fizz'\n",
    "    elif num % 7 == 0:\n",
    "        return 'buzz'\n",
    "\n",
    "    else:return num"
   ],
   "metadata": {
    "collapsed": false,
    "pycharm": {
     "name": "#%%\n"
    }
   }
  },
  {
   "cell_type": "markdown",
   "source": [
    "Задача №2:\n",
    "Владу нужно узнать значения функции $y = x -0.5$ по заданному x. Функция задаётся следующим образом: $y = x-0.5, x >0 \\\\ y=0,x=0 \\\\ y = |x|,x<0 $ Пример работы программы: $x = 1, y =0.5 \\\\ x = -5, y = 5$ Напоминание: модуль числа - $abs(x)$\n",
    "\n",
    "\n",
    "##Solution p.26\n"
   ],
   "metadata": {
    "collapsed": false,
    "pycharm": {
     "name": "#%% md\n"
    }
   }
  },
  {
   "cell_type": "markdown",
   "source": [
    "Задача№3:\n",
    "По введённым сторонам треугольника определить, существует ли такой треугольник. Треугольник существует, если сумма двух любых сторон не меньше третей. Пример:\n",
    "\n",
    "$a=4,b=7,c = 13$- не существует, так как c > a+b\n",
    "Ответ *True*  или *False* запишите в answ"
   ],
   "metadata": {
    "collapsed": false
   }
  },
  {
   "cell_type": "code",
   "execution_count": null,
   "outputs": [],
   "source": [
    "def exist(a,b,c):\n",
    "    if a+b >= c and c+a >=b and c+b >= a:\n",
    "        answ = True\n",
    "    else:answ = False\n",
    "    return answ\n",
    "\n"
   ],
   "metadata": {
    "collapsed": false,
    "pycharm": {
     "name": "#%%\n"
    }
   }
  }
 ],
 "metadata": {
  "kernelspec": {
   "display_name": "Python 3",
   "language": "python",
   "name": "python3"
  },
  "language_info": {
   "codemirror_mode": {
    "name": "ipython",
    "version": 2
   },
   "file_extension": ".py",
   "mimetype": "text/x-python",
   "name": "python",
   "nbconvert_exporter": "python",
   "pygments_lexer": "ipython2",
   "version": "2.7.6"
  }
 },
 "nbformat": 4,
 "nbformat_minor": 0
}