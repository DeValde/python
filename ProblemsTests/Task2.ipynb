{
 "cells": [
  {
   "cell_type": "markdown",
   "source": [
    "#Задания по ветвлению\n"
   ],
   "metadata": {
    "collapsed": false
   }
  },
  {
   "cell_type": "markdown",
   "source": [
    "Задача №1:\n",
    "Написать программу, проверяющую, делится ли заданное число на 5 и 7 без остатка. Если число делится без остатка только на 5 - вывести fizz, если только на 7 - вывести buzz, если делится на 7 и 5 вывести fizzbuzz, иначе вывести число поступившее на ввод. Ответ записать в переменную answ."
   ],
   "metadata": {
    "collapsed": false
   }
  },
  {
   "cell_type": "code",
   "execution_count": 6,
   "outputs": [],
   "source": [
    "import import_ipynb\n",
    "\n",
    "def minifizzbuzz(num):\n",
    "    answ = 0\n",
    "    #Ваш код здесь\n",
    "    return answ"
   ],
   "metadata": {
    "collapsed": false,
    "pycharm": {
     "name": "#%%\n"
    }
   }
  },
  {
   "cell_type": "markdown",
   "source": [
    "Задача №2:\n",
    "Владу нужно узнать значения функции $y = x -0.5$ по заданному x. Функция задаётся следующим образом: $y = x-0.5, x >0 \\\\ y=0,x=0 \\\\ y = |x|,x<0 $ Пример работы программы: $x = 1, y =0.5 \\\\ x = -5, y = 5$ Напоминание: модуль числа - $abs(x)$"
   ],
   "metadata": {
    "collapsed": false
   }
  },
  {
   "cell_type": "code",
   "execution_count": 2,
   "outputs": [],
   "source": [
    "def helpVlad(x):\n",
    "    y = 0\n",
    "    #Ваш код здесь\n",
    "    return y\n"
   ],
   "metadata": {
    "collapsed": false,
    "pycharm": {
     "name": "#%%\n"
    }
   }
  },
  {
   "cell_type": "markdown",
   "source": [
    "Задача№3:\n",
    "По введённым сторонам треугольника определить, существует ли такой треугольник. Треугольник существует, если сумма двух любых сторон не меньше третей. Пример:\n",
    "\n",
    "$a=4,b=7,c = 13$- не существует, так как c > a+b\n",
    "Ответ *True*  или *False* запишите в answ"
   ],
   "metadata": {
    "collapsed": false
   }
  },
  {
   "cell_type": "code",
   "execution_count": 3,
   "outputs": [],
   "source": [
    "def exist(a,b,c):\n",
    "    answ = 0\n",
    "    # Ваш код здесь\n",
    "    return answ"
   ],
   "metadata": {
    "collapsed": false,
    "pycharm": {
     "name": "#%%\n"
    }
   }
  },
  {
   "cell_type": "markdown",
   "source": [
    "Задача №4: средняя\n",
    "В зависимости от того, что выберет пользователь вычислить площадь треугольника, прямоугольника или круга. Программа узнает нужную фигуру, затем запрашивает длины сторон или радиус. Напоминание:\n",
    "\n",
    "\n",
    "Площадь треугольника можно вычислить по трем сторонам по формуле Герона: $S=\\sqrt{(p(p-a)(p-b)(p-c))}$, где $p$ - полупериметр.\n",
    "Площадь круга вычисляется по формуле $S=\\pi * r^2$, прямоугольника по формуле $S=ab$. Число $\\pi $ принять за $3$.\n",
    "\n",
    "\n",
    "Для определенности, положим, если пользователь выбрал фигуру 1 - треугольник, 2 - прямоугольник, 3 - круг.\n",
    "Из библиотеки math взять функцию sqrt"
   ],
   "metadata": {
    "collapsed": false
   }
  },
  {
   "cell_type": "code",
   "execution_count": 4,
   "outputs": [],
   "source": [
    "import math\n",
    "\n",
    "def area(figure):\n",
    "    S=0\n",
    "    #Ваш код здесь\n",
    "    return S\n",
    "\n",
    "\n"
   ],
   "metadata": {
    "collapsed": false,
    "pycharm": {
     "name": "#%%\n"
    }
   }
  },
  {
   "cell_type": "markdown",
   "source": [
    "Вычислить корни квадратного уравнения по заданным коэффициентам.\n",
    "\n",
    "Квадратное уравнение имеет вид $ax^2+ bx + c = 0.$\n",
    "При его решении сначала вычисляют дискриминант по формуле $D = b^2\n",
    " - 4ac.$\n",
    "Если $D > 0$, то квадратное уравнение имеет два корня; если $D = 0$, то 1 корень; и если $D < 0$, то\n",
    "делают вывод, что корней нет."
   ],
   "metadata": {
    "collapsed": false
   }
  },
  {
   "cell_type": "code",
   "execution_count": 11,
   "outputs": [
    {
     "data": {
      "text/plain": "34.81"
     },
     "execution_count": 11,
     "metadata": {},
     "output_type": "execute_result"
    }
   ],
   "source": [
    "def sqEqu():\n",
    "    print(\"enter coefs\")\n",
    "    a =float(input())\n",
    "    b=float(input())\n",
    "    c=float(input())\n",
    "    D = b*b-4*a*c\n",
    "    if D < 0:\n",
    "        raise Exception(\"D<0\")\n",
    "    elif D == 0:\n",
    "        return (-b+math.sqrt(D))/2/a\n",
    "    else: return (((-b+math.sqrt(D))/2/a),((-b-math.sqrt(D))/2/a))\n",
    "\n",
    "x = 5.9\n",
    "x*x\n",
    "\n"
   ],
   "metadata": {
    "collapsed": false,
    "pycharm": {
     "name": "#%%\n"
    }
   }
  }
 ],
 "metadata": {
  "kernelspec": {
   "display_name": "Python 3",
   "language": "python",
   "name": "python3"
  },
  "language_info": {
   "codemirror_mode": {
    "name": "ipython",
    "version": 2
   },
   "file_extension": ".py",
   "mimetype": "text/x-python",
   "name": "python",
   "nbconvert_exporter": "python",
   "pygments_lexer": "ipython2",
   "version": "2.7.6"
  }
 },
 "nbformat": 4,
 "nbformat_minor": 0
}